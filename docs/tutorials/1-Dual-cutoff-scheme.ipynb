{
 "cells": [
  {
   "cell_type": "markdown",
   "id": "photographic-electronics",
   "metadata": {},
   "source": [
    "# 1-Dual-cutoff-scheme\n",
    "\n",
    "In this notebook, we introduce the concept of dual-cutoff for, eps. coarse-grained simulations, and how to determine the two cutoff values for PyLipID. PyLipID uses this dual-cutoff scheme to deal with the 'rattling in the cage' effect in coarse-grained simulations, in which the coarse-grained beads, due to the smoothened potentials, could have quick jiggling without real dissociations. PyLipID "
   ]
  },
  {
   "cell_type": "code",
   "execution_count": null,
   "id": "radio-celtic",
   "metadata": {},
   "outputs": [],
   "source": []
  }
 ],
 "metadata": {
  "kernelspec": {
   "display_name": "Python 3",
   "language": "python",
   "name": "python3"
  },
  "language_info": {
   "codemirror_mode": {
    "name": "ipython",
    "version": 3
   },
   "file_extension": ".py",
   "mimetype": "text/x-python",
   "name": "python",
   "nbconvert_exporter": "python",
   "pygments_lexer": "ipython3",
   "version": "3.8.3"
  },
  "toc": {
   "base_numbering": 1,
   "nav_menu": {},
   "number_sections": true,
   "sideBar": true,
   "skip_h1_title": false,
   "title_cell": "Table of Contents",
   "title_sidebar": "Contents",
   "toc_cell": false,
   "toc_position": {},
   "toc_section_display": true,
   "toc_window_display": false
  }
 },
 "nbformat": 4,
 "nbformat_minor": 5
}
