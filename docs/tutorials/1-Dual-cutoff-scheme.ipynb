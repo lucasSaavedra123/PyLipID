{
 "cells": [
  {
   "cell_type": "markdown",
   "id": "photographic-electronics",
   "metadata": {},
   "source": [
    "# 1-Dual-cutoff-scheme\n",
    "\n",
    "In this notebook, we introduce the concept of dual-cutoff for, eps. coarse-grained simulations, and how to determine the two cutoff values for PyLipID. PyLipID uses this dual-cutoff scheme to deal with the 'rattling in the cage' effect in coarse-grained simulations, in which the coarse-grained beads, due to the smoothened potentials, could have quick jiggling without real dissociations. Thus the choice of the cutoff values will affect the calculaiton results of PyLipID. \n",
    "\n",
    "We will first illustrate the 'rattling in cage' effect, then look at ways to determine the optimal dual cutoffs for systems. Finally, we will also have a brief look at how the choice of cutoff values affects binding site calculation. We recommend users to test on cutoffs when applying PyLipID to a new system, esp. to different types of lipid. "
   ]
  },
  {
   "cell_type": "code",
   "execution_count": null,
   "id": "premier-married",
   "metadata": {},
   "outputs": [],
   "source": [
    "%matplotlib inline\n",
    "import numpy as np\n",
    "import matplotlib.pyplot as plt\n",
    "import pylipid\n",
    "from pylipid.api import LipidInteraction"
   ]
  },
  {
   "cell_type": "markdown",
   "id": "theoretical-complaint",
   "metadata": {},
   "source": [
    "## The \"rattling in cage\" effect in MARTINI force field\n",
    "\n",
    "Due to the smoothened the potentials, "
   ]
  },
  {
   "cell_type": "code",
   "execution_count": null,
   "id": "least-forest",
   "metadata": {},
   "outputs": [],
   "source": []
  }
 ],
 "metadata": {
  "kernelspec": {
   "display_name": "Python 3",
   "language": "python",
   "name": "python3"
  },
  "language_info": {
   "codemirror_mode": {
    "name": "ipython",
    "version": 3
   },
   "file_extension": ".py",
   "mimetype": "text/x-python",
   "name": "python",
   "nbconvert_exporter": "python",
   "pygments_lexer": "ipython3",
   "version": "3.8.3"
  },
  "toc": {
   "base_numbering": 1,
   "nav_menu": {},
   "number_sections": true,
   "sideBar": true,
   "skip_h1_title": false,
   "title_cell": "Table of Contents",
   "title_sidebar": "Contents",
   "toc_cell": false,
   "toc_position": {},
   "toc_section_display": true,
   "toc_window_display": false
  }
 },
 "nbformat": 4,
 "nbformat_minor": 5
}
