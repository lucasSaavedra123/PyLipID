{
 "cells": [
  {
   "cell_type": "markdown",
   "id": "theoretical-klein",
   "metadata": {},
   "source": [
    "# 0-application-walk-thourgh\n",
    "\n",
    "In this notebook, we introduce the basics of PyLipID via a walk-through application. We keep the details to minimum and invite users to refer to other specific notebooks in which you can find more details, exercise and theory. \n",
    "\n",
    "In this tutorial, we show the PyLipID workflow of checking the lipid interactions a Class A GPCR, Adenosine A2a receptor from coarse-grained simulations with a complex membrane bilayer that contains 7 lipid species. \n",
    "\n",
    "<img src=\"_statics/A2aR_system_overview.pdf\" width=\"520\" height=\"280\" />\n",
    "\n",
    "The simulation ensemble reported in the original paper contained 10 repeats, but here we took 2 of the repeats for demonstration and saved in two directories ``run1`` and ``run2``, both of which contains a simulation trajectory ``protein_lipids.xtc`` and a corresponding topology coordinate ``protein_lipids.gro``. The two simulation trajectories have the same topology but different initial configurations. The trajectories were saved with a 20 ns timestep. "
   ]
  },
  {
   "cell_type": "code",
   "execution_count": 1,
   "id": "thrown-granny",
   "metadata": {},
   "outputs": [],
   "source": [
    "%matplotlib inline\n",
    "import pylipid\n",
    "from pylipid.api import LipidInteraction"
   ]
  },
  {
   "cell_type": "markdown",
   "id": "moving-buddy",
   "metadata": {},
   "source": [
    "## Load data\n",
    "\n",
    "We start by initializing the main class `LipidInteraction`. "
   ]
  },
  {
   "cell_type": "markdown",
   "id": "united-missouri",
   "metadata": {},
   "source": [
    "Trajectories and topology coordinates of the two repeats were saved in the directory ``../../tests/data``. Thus we first create a `trajfile_list` and `topfile_list`. Then, we load the `trajfile_list` and `topfile_list` to `LipidInteraction` together with a couple of calculation settings, including what cutoffs to use, which lipid to check, which lipid atoms are used to define the interactions and what time unit the generated data use etc. You can also specify which directory the generated data should be saved at. But here we will use the default value, i.e. the current working directory. "
   ]
  },
  {
   "cell_type": "code",
   "execution_count": 2,
   "id": "dense-store",
   "metadata": {},
   "outputs": [
    {
     "name": "stdout",
     "output_type": "stream",
     "text": [
      "Creating new director: /Users/lindasong/PyLipID/PyLipID-dev/docs/tutorials/Interaction_CHOL\n"
     ]
    }
   ],
   "source": [
    "trajfile_list = [\"../../tests/data/run1/protein_lipids.xtc\", \"../../tests/data/run2/protein_lipids.xtc\"]\n",
    "topfile_list = [\"../../tests/data/run1/protein_lipids.gro\", \"../../tests/data/run2/protein_lipids.gro\"]\n",
    "lipid = \"CHOL\"\n",
    "cutoffs = [0.55, 0.8]\n",
    "nprot = 1\n",
    "timeunit = 'us' # micro-second\n",
    "\n",
    "# initialize \n",
    "li = LipidInteraction(trajfile_list, topfile_list, cutoffs=cutoffs, lipid=lipid, nprot=nprot)"
   ]
  },
  {
   "cell_type": "markdown",
   "id": "duplicate-pleasure",
   "metadata": {},
   "source": [
    "## Collect interactions for residues\n",
    "\n",
    "Calculate interaction durations, occupancy and lipid count from trajectories. The correlation coefficient matrix will also be calculated from these interactions. A pandas.DataFrame object will be created to store the generated data and be stored as a class instance object `dataset`. "
   ]
  },
  {
   "cell_type": "code",
   "execution_count": 3,
   "id": "stupid-pricing",
   "metadata": {},
   "outputs": [
    {
     "name": "stderr",
     "output_type": "stream",
     "text": [
      "COLLECT INTERACTIONS FROM TRAJECTORIES: 100%|██████████| 2/2 [00:48<00:00, 24.10s/it]\n"
     ]
    }
   ],
   "source": [
    "li.collect_residue_contacts(write_log=True, print_log=False)\n",
    "\n",
    "# print_log=True will print out the residues with the highest interaction durations, interaction \n",
    "# occupancy and lipid count from each trajectory. \n",
    "\n",
    "# write_log=True will write such information in a log file. "
   ]
  },
  {
   "cell_type": "markdown",
   "id": "medical-relaxation",
   "metadata": {},
   "source": [
    "After calculation, a couple of class instance objects are generated. For example, the instance object `durations` stores the durations of lipid interaction with protein residues in a dictionary object. "
   ]
  },
  {
   "cell_type": "code",
   "execution_count": 4,
   "id": "answering-transition",
   "metadata": {},
   "outputs": [
    {
     "name": "stdout",
     "output_type": "stream",
     "text": [
      "[[0.02, 0.02, 0.02, 0.02, 0.02, 0.02, 0.02, 0.02, 0.02, 0.02, 0.04, 0.04, 0.04, 0.16, 0.26], [0.02, 0.02, 0.02, 0.02, 0.04, 0.06, 0.08, 0.1, 0.12, 0.14, 0.18, 0.26, 0.38]]\n"
     ]
    }
   ],
   "source": [
    "residue_id = 20\n",
    "print(li.durations[residue_id])"
   ]
  },
  {
   "cell_type": "markdown",
   "id": "worse-generator",
   "metadata": {},
   "source": [
    "It shows cholesterol interaction with the 21th residue (index starting from 0) in a list of two lists, each of which contains interactions durations from the corresponding trajectory in `trajfile_list`. \n",
    "\n",
    "A class instance object `dataset` is also generated, which stores the averages of various interaction metrics for each residues. The information in this `dataset` will be expanded to include that of the binding site after the calculation of binding site interaction has been carried out. "
   ]
  },
  {
   "cell_type": "code",
   "execution_count": 5,
   "id": "religious-aging",
   "metadata": {},
   "outputs": [
    {
     "data": {
      "text/html": [
       "<div>\n",
       "<style scoped>\n",
       "    .dataframe tbody tr th:only-of-type {\n",
       "        vertical-align: middle;\n",
       "    }\n",
       "\n",
       "    .dataframe tbody tr th {\n",
       "        vertical-align: top;\n",
       "    }\n",
       "\n",
       "    .dataframe thead th {\n",
       "        text-align: right;\n",
       "    }\n",
       "</style>\n",
       "<table border=\"1\" class=\"dataframe\">\n",
       "  <thead>\n",
       "    <tr style=\"text-align: right;\">\n",
       "      <th></th>\n",
       "      <th>Residue</th>\n",
       "      <th>Residue ID</th>\n",
       "      <th>Occupancy</th>\n",
       "      <th>Occupancy std</th>\n",
       "      <th>Duration</th>\n",
       "      <th>Duration std</th>\n",
       "      <th>Lipid Count</th>\n",
       "      <th>Lipid Count std</th>\n",
       "    </tr>\n",
       "  </thead>\n",
       "  <tbody>\n",
       "    <tr>\n",
       "      <th>0</th>\n",
       "      <td>1ILE</td>\n",
       "      <td>0</td>\n",
       "      <td>48.007968</td>\n",
       "      <td>2.191235</td>\n",
       "      <td>0.040816</td>\n",
       "      <td>0.033473</td>\n",
       "      <td>1.087129</td>\n",
       "      <td>0.000173</td>\n",
       "    </tr>\n",
       "    <tr>\n",
       "      <th>1</th>\n",
       "      <td>2MET</td>\n",
       "      <td>1</td>\n",
       "      <td>14.143426</td>\n",
       "      <td>0.597610</td>\n",
       "      <td>0.030566</td>\n",
       "      <td>0.021493</td>\n",
       "      <td>1.042925</td>\n",
       "      <td>0.015898</td>\n",
       "    </tr>\n",
       "    <tr>\n",
       "      <th>2</th>\n",
       "      <td>3GLY</td>\n",
       "      <td>2</td>\n",
       "      <td>6.374502</td>\n",
       "      <td>0.000000</td>\n",
       "      <td>0.037895</td>\n",
       "      <td>0.038331</td>\n",
       "      <td>1.000000</td>\n",
       "      <td>0.000000</td>\n",
       "    </tr>\n",
       "    <tr>\n",
       "      <th>3</th>\n",
       "      <td>4SER</td>\n",
       "      <td>3</td>\n",
       "      <td>1.992032</td>\n",
       "      <td>1.992032</td>\n",
       "      <td>0.048571</td>\n",
       "      <td>0.070797</td>\n",
       "      <td>0.500000</td>\n",
       "      <td>0.500000</td>\n",
       "    </tr>\n",
       "    <tr>\n",
       "      <th>4</th>\n",
       "      <td>5SER</td>\n",
       "      <td>4</td>\n",
       "      <td>48.207171</td>\n",
       "      <td>8.366534</td>\n",
       "      <td>0.056757</td>\n",
       "      <td>0.090585</td>\n",
       "      <td>1.077817</td>\n",
       "      <td>0.027817</td>\n",
       "    </tr>\n",
       "  </tbody>\n",
       "</table>\n",
       "</div>"
      ],
      "text/plain": [
       "  Residue  Residue ID  Occupancy  Occupancy std  Duration  Duration std  \\\n",
       "0    1ILE           0  48.007968       2.191235  0.040816      0.033473   \n",
       "1    2MET           1  14.143426       0.597610  0.030566      0.021493   \n",
       "2    3GLY           2   6.374502       0.000000  0.037895      0.038331   \n",
       "3    4SER           3   1.992032       1.992032  0.048571      0.070797   \n",
       "4    5SER           4  48.207171       8.366534  0.056757      0.090585   \n",
       "\n",
       "   Lipid Count  Lipid Count std  \n",
       "0     1.087129         0.000173  \n",
       "1     1.042925         0.015898  \n",
       "2     1.000000         0.000000  \n",
       "3     0.500000         0.500000  \n",
       "4     1.077817         0.027817  "
      ]
     },
     "execution_count": 5,
     "metadata": {},
     "output_type": "execute_result"
    }
   ],
   "source": [
    "li.dataset.head()"
   ]
  },
  {
   "cell_type": "markdown",
   "id": "interesting-ratio",
   "metadata": {},
   "source": [
    "The `LipidInteraction` class also has a couple of assisting functions that provide quick access to the class attributes. "
   ]
  },
  {
   "cell_type": "markdown",
   "id": "intimate-developer",
   "metadata": {},
   "source": [
    "## Calculate koff/residence time for residues\n",
    "\n",
    "We next move to calculate the interaction koff and residence time for protein residues. This calculation has to be run after ``collect_residue_contacts()`` as the koff is calculated from interaction durations. "
   ]
  },
  {
   "cell_type": "code",
   "execution_count": 6,
   "id": "sacred-swimming",
   "metadata": {},
   "outputs": [
    {
     "name": "stdout",
     "output_type": "stream",
     "text": [
      "Creating new director: /Users/lindasong/PyLipID/PyLipID-dev/docs/tutorials/Interaction_CHOL/Residue_koffs_CHOL\n"
     ]
    }
   ],
   "source": [
    "koffs, res_times = li.compute_residue_koff(print_data=False, plot_data=True)\n",
    "\n",
    "# if you are interested in only a couple of residues or one specific residue, you can provide a list\n",
    "# of residue id or one residue id as follow:\n",
    "# li.compute_residue_koff(residue_id=[10,15,25,35])\n",
    "# li.compute_residue_koff(residue_id=10)"
   ]
  },
  {
   "cell_type": "markdown",
   "id": "sealed-restaurant",
   "metadata": {},
   "source": [
    "`print_data=True` will print out the calculated interactions for the residues. It can be quite verbose.\n",
    "\n",
    "`plot_data=True` will plot the koff figure for the residues. The directory to save such figures can be changed by save_dir, otherwise they will be saved in the directory of the Residue_koff_{lipid} at the current working directory. "
   ]
  },
  {
   "cell_type": "markdown",
   "id": "charming-external",
   "metadata": {},
   "source": [
    "The koff figure looks like this:\n",
    "\n",
    "<img src=\"_statics/koff_figure.pdf\" />\n",
    "\n",
    "The left panel plots the interactions durations in the sorted order and the right panel plots the normalised survival rates of these interactions (the purple doted line) and the bi-exponential curve fitted to survival curve (red broken line). To check the sampling quality, the fitted curve of the bootstraped interaction durations are plotted in gray lines. "
   ]
  },
  {
   "cell_type": "markdown",
   "id": "informal-factor",
   "metadata": {},
   "source": [
    "## Calculate binding sites\n",
    "\n",
    "Before calculation of interactions with binding sites, we need to calculate where the binding sites are. "
   ]
  },
  {
   "cell_type": "code",
   "execution_count": 7,
   "id": "every-lighter",
   "metadata": {},
   "outputs": [],
   "source": [
    "note_list = li.compute_binding_nodes(threshold=4, print_data=False)\n",
    "\n",
    "# threshold=4 decides that binding sites should contain at least 4 residues. \n",
    "# print_data=True will print the residues for each binding site. It can be quite verbose. "
   ]
  },
  {
   "cell_type": "code",
   "execution_count": 19,
   "id": "thrown-recipe",
   "metadata": {},
   "outputs": [
    {
     "ename": "NameError",
     "evalue": "name 'node_list' is not defined",
     "output_type": "error",
     "traceback": [
      "\u001b[0;31m---------------------------------------------------------------------------\u001b[0m",
      "\u001b[0;31mNameError\u001b[0m                                 Traceback (most recent call last)",
      "\u001b[0;32m<ipython-input-19-33f8ede7a05d>\u001b[0m in \u001b[0;36m<module>\u001b[0;34m\u001b[0m\n\u001b[0;32m----> 1\u001b[0;31m \u001b[0mprint\u001b[0m\u001b[0;34m(\u001b[0m\u001b[0mnode_list\u001b[0m\u001b[0;34m)\u001b[0m\u001b[0;34m\u001b[0m\u001b[0;34m\u001b[0m\u001b[0m\n\u001b[0m",
      "\u001b[0;31mNameError\u001b[0m: name 'node_list' is not defined"
     ]
    }
   ],
   "source": [
    "print(node_list)"
   ]
  },
  {
   "cell_type": "markdown",
   "id": "atomic-channels",
   "metadata": {},
   "source": [
    "This function returns a node list, which is also retored in the class instance object node_list. The node list is a list of lists, each of which contains residues for a binding site.  "
   ]
  },
  {
   "cell_type": "markdown",
   "id": "protective-learning",
   "metadata": {},
   "source": [
    "## Calculate interactions with binding sites\n",
    "\n",
    "Once binding sites are defined, we can move to the calculation of interactions with binding sites. "
   ]
  },
  {
   "cell_type": "code",
   "execution_count": 8,
   "id": "fallen-campbell",
   "metadata": {},
   "outputs": [
    {
     "name": "stderr",
     "output_type": "stream",
     "text": [
      "\r",
      "CALCULATE INTERACTIONS FOR BINDING SITES:   0%|          | 0/10 [00:00<?, ?it/s]"
     ]
    },
    {
     "name": "stdout",
     "output_type": "stream",
     "text": [
      "Creating new director: /Users/lindasong/PyLipID/PyLipID-dev/docs/tutorials/Interaction_CHOL/Binding_Sites_koffs_CHOL\n"
     ]
    },
    {
     "name": "stderr",
     "output_type": "stream",
     "text": [
      "CALCULATE INTERACTIONS FOR BINDING SITES: 100%|██████████| 10/10 [00:06<00:00,  1.65it/s]\n"
     ]
    },
    {
     "data": {
      "text/plain": [
       "([2.8865742738076983,\n",
       "  2.389003330062132,\n",
       "  10.055461689621868,\n",
       "  2.2030557179316186,\n",
       "  4.743122424101136,\n",
       "  7.176946463458787,\n",
       "  7.084518233188024,\n",
       "  7.24927898237628,\n",
       "  3.3540386572212073,\n",
       "  1.2962624878052542],\n",
       " [0.34643141147409096,\n",
       "  0.4185845986133441,\n",
       "  0.09944844213688259,\n",
       "  0.4539149835660395,\n",
       "  0.21083158109491743,\n",
       "  0.13933502292255778,\n",
       "  0.14115285854095422,\n",
       "  0.13794475318595129,\n",
       "  0.298148024575391,\n",
       "  0.7714486914553346])"
      ]
     },
     "execution_count": 8,
     "metadata": {},
     "output_type": "execute_result"
    }
   ],
   "source": [
    "li.compute_site_koff(print_data=False, plot_data=True, sort_residue=\"Residence Time\")"
   ]
  },
  {
   "cell_type": "markdown",
   "id": "entire-hampshire",
   "metadata": {},
   "source": [
    "`print_data=True` will print out information for binding sites in which the comprising residues are sorted based on the value defined by `sort_residue`. Such information can be written out in a log file by `li.write_site_info()`. Similar to `compute_residue_koff()`, `compute_site_koff` also can plot the koff figure for binding sites, controled by `plot_data`. Specific binding sites can also be selected for calculated via `binding_site_id`. "
   ]
  },
  {
   "cell_type": "code",
   "execution_count": 9,
   "id": "authorized-jewel",
   "metadata": {},
   "outputs": [
    {
     "name": "stderr",
     "output_type": "stream",
     "text": [
      "CALCULATE INTERACTIONS FOR BINDING SITES: 100%|██████████| 1/1 [00:00<00:00,  2.84it/s]"
     ]
    },
    {
     "name": "stdout",
     "output_type": "stream",
     "text": [
      "# Binding site 2\n",
      " Binding Site Residence Time:       0.099 us   \n",
      " Binding Site Koff:                10.055  R squared:  0.9997\n",
      " Binding Site Duration:             0.057 us   \n",
      " Binding Site Occupancy:           94.024 %\n",
      " Binding Site Lipid Count:          2.163\n",
      " Pos. Charge:        4/17      \n",
      " Neg. Charge:        0/17      \n",
      " Polar:              1/17      \n",
      " Hydrophobic:        10/17     \n",
      " Special:            2/17      \n",
      " Residue Res ID  Res. Time (us)  Duration (us)   Occupancy (%) Lipid Count  Koff  R Squared \n",
      "  21GLY    20        0.218           0.078          15.538        1.010     4.598   0.998   \n",
      "  24LEU    23        0.164           0.113          50.598        1.074     6.081   1.000   \n",
      " 302ARG    301       0.149           0.045          39.044        1.062     6.702   1.000   \n",
      " 294ARG    293       0.145           0.044           7.570        1.000     6.882   0.999   \n",
      "  27TRP    26        0.120           0.075          48.207        1.103     8.361   0.999   \n",
      " 300ILE    299       0.115           0.096          36.853        1.049     8.685   0.999   \n",
      "  20LEU    19        0.111           0.060          71.116        1.280     9.015   0.999   \n",
      " 297PHE    296       0.105           0.071          23.506        1.033     9.554   0.999   \n",
      "  23VAL    22        0.090           0.066          44.223        1.093    11.093   0.995   \n",
      " 301ILE    300       0.078           0.064          62.151        1.150    12.765   1.000   \n",
      " 298ARG    297       0.071           0.043          27.689        1.015    14.097   0.999   \n",
      "  31LEU    30        0.059           0.055          13.347        1.000    16.932   1.000   \n",
      "  17LEU    16        0.059           0.047          67.729        1.311    17.043   1.000   \n",
      " 283PRO    282       0.058           0.044           6.175        1.025    17.258   0.999   \n",
      " 287ALA    286       0.044           0.043           5.179        1.000    22.490   0.999   \n",
      " 299LYS    298       0.024           0.029           2.789        1.056    40.958   1.000   \n",
      " 295GLN    294       0.000           0.010           0.199        0.500     0.000   -0.004  \n",
      "\n",
      "\n",
      "\n"
     ]
    },
    {
     "name": "stderr",
     "output_type": "stream",
     "text": [
      "\n"
     ]
    }
   ],
   "source": [
    "koff_bs, res_time_bs = \\\n",
    "li.compute_site_koff(binding_site_id=2, print_data=True, plot_data=False, sort_residue=\"Residence Time\")"
   ]
  },
  {
   "cell_type": "markdown",
   "id": "critical-peoples",
   "metadata": {},
   "source": [
    "The binding site information can also be viewed by the class attribute:"
   ]
  },
  {
   "cell_type": "code",
   "execution_count": 10,
   "id": "religious-senator",
   "metadata": {},
   "outputs": [
    {
     "name": "stdout",
     "output_type": "stream",
     "text": [
      "# Binding site 0\n",
      " Binding Site Residence Time:       0.346 us   \n",
      " Binding Site Koff:                 2.887  R squared:  0.9987\n",
      " Binding Site Duration:             0.087 us   \n",
      " Binding Site Occupancy:           98.008 %\n",
      " Binding Site Lipid Count:          2.570\n",
      " Pos. Charge:        0/15      \n",
      " Neg. Charge:        1/15      \n",
      " Polar:              2/15      \n",
      " Hydrophobic:        11/15     \n",
      " Special:            1/15      \n",
      " Residue Res ID  Res. Time (us)  Duration (us)   Occupancy (%) Lipid Count  Koff  R Squared \n",
      "  5SER      4        0.385           0.057          48.207        1.078     2.598   0.995   \n",
      " 269TYR    268       0.370           0.230           1.992        0.500     2.701   0.973   \n",
      "  14ILE    13        0.262           0.084          65.538        1.052     3.818   0.999   \n",
      "  10VAL     9        0.241           0.073          83.665        1.326     4.147   0.999   \n",
      "  7TYR      6        0.241           0.080          50.398        1.059     4.154   0.997   \n",
      " 273VAL    272       0.233           0.084          59.163        1.088     4.300   0.997   \n",
      "  11GLU    10        0.231           0.142          40.239        1.010     4.320   0.999   \n",
      " 266TRP    265       0.198           0.052          18.327        1.027     5.046   0.995   \n",
      "  13ALA    12        0.092           0.053          67.131        1.217    10.883   1.000   \n",
      "  6VAL      5        0.071           0.055          65.737        1.124    14.077   1.000   \n",
      "  9THR      8        0.065           0.059          73.904        1.236    15.413   0.969   \n",
      " 280VAL    279       0.060           0.056          36.056        1.054    16.680   1.000   \n",
      "  3GLY      2        0.058           0.038           6.375        1.000    17.343   0.998   \n",
      "  1ILE      0        0.036           0.041          48.008        1.087    27.502   1.000   \n",
      "  2MET      1        0.032           0.031          14.143        1.043    30.875   1.000   \n",
      "\n",
      "\n",
      "\n"
     ]
    }
   ],
   "source": [
    "df = li.binding_site(binding_site_id=0)"
   ]
  },
  {
   "cell_type": "markdown",
   "id": "sorted-howard",
   "metadata": {},
   "source": [
    "The returned `df` is a pandas.DataFrame object that contains the residues of the selected binding site and their interaction data. "
   ]
  },
  {
   "cell_type": "code",
   "execution_count": 11,
   "id": "utility-persian",
   "metadata": {},
   "outputs": [
    {
     "data": {
      "text/html": [
       "<div>\n",
       "<style scoped>\n",
       "    .dataframe tbody tr th:only-of-type {\n",
       "        vertical-align: middle;\n",
       "    }\n",
       "\n",
       "    .dataframe tbody tr th {\n",
       "        vertical-align: top;\n",
       "    }\n",
       "\n",
       "    .dataframe thead th {\n",
       "        text-align: right;\n",
       "    }\n",
       "</style>\n",
       "<table border=\"1\" class=\"dataframe\">\n",
       "  <thead>\n",
       "    <tr style=\"text-align: right;\">\n",
       "      <th></th>\n",
       "      <th>Residue</th>\n",
       "      <th>Residue ID</th>\n",
       "      <th>Occupancy</th>\n",
       "      <th>Occupancy std</th>\n",
       "      <th>Duration</th>\n",
       "      <th>Duration std</th>\n",
       "      <th>Lipid Count</th>\n",
       "      <th>Lipid Count std</th>\n",
       "      <th>Koff</th>\n",
       "      <th>Residence Time</th>\n",
       "      <th>R Squared</th>\n",
       "      <th>Koff Bootstrap avg</th>\n",
       "      <th>Binding Site ID</th>\n",
       "      <th>Binding Site Koff</th>\n",
       "      <th>Binding Site Residence Time</th>\n",
       "      <th>Binding Site R Squared</th>\n",
       "      <th>Binding Site Duration</th>\n",
       "      <th>Binding Site Occupancy</th>\n",
       "      <th>Binding Site Lipid Count</th>\n",
       "    </tr>\n",
       "  </thead>\n",
       "  <tbody>\n",
       "    <tr>\n",
       "      <th>0</th>\n",
       "      <td>1ILE</td>\n",
       "      <td>0</td>\n",
       "      <td>48.007968</td>\n",
       "      <td>2.191235</td>\n",
       "      <td>0.040816</td>\n",
       "      <td>0.033473</td>\n",
       "      <td>1.087129</td>\n",
       "      <td>0.000173</td>\n",
       "      <td>27.501646</td>\n",
       "      <td>0.036361</td>\n",
       "      <td>0.999844</td>\n",
       "      <td>26.424952</td>\n",
       "      <td>0.0</td>\n",
       "      <td>2.886574</td>\n",
       "      <td>0.346431</td>\n",
       "      <td>0.998745</td>\n",
       "      <td>0.086627</td>\n",
       "      <td>98.007968</td>\n",
       "      <td>2.569561</td>\n",
       "    </tr>\n",
       "    <tr>\n",
       "      <th>1</th>\n",
       "      <td>2MET</td>\n",
       "      <td>1</td>\n",
       "      <td>14.143426</td>\n",
       "      <td>0.597610</td>\n",
       "      <td>0.030566</td>\n",
       "      <td>0.021493</td>\n",
       "      <td>1.042925</td>\n",
       "      <td>0.015898</td>\n",
       "      <td>30.874937</td>\n",
       "      <td>0.032389</td>\n",
       "      <td>0.999933</td>\n",
       "      <td>33.770820</td>\n",
       "      <td>0.0</td>\n",
       "      <td>2.886574</td>\n",
       "      <td>0.346431</td>\n",
       "      <td>0.998745</td>\n",
       "      <td>0.086627</td>\n",
       "      <td>98.007968</td>\n",
       "      <td>2.569561</td>\n",
       "    </tr>\n",
       "    <tr>\n",
       "      <th>2</th>\n",
       "      <td>3GLY</td>\n",
       "      <td>2</td>\n",
       "      <td>6.374502</td>\n",
       "      <td>0.000000</td>\n",
       "      <td>0.037895</td>\n",
       "      <td>0.038331</td>\n",
       "      <td>1.000000</td>\n",
       "      <td>0.000000</td>\n",
       "      <td>17.343492</td>\n",
       "      <td>0.057659</td>\n",
       "      <td>0.997950</td>\n",
       "      <td>18.580244</td>\n",
       "      <td>0.0</td>\n",
       "      <td>2.886574</td>\n",
       "      <td>0.346431</td>\n",
       "      <td>0.998745</td>\n",
       "      <td>0.086627</td>\n",
       "      <td>98.007968</td>\n",
       "      <td>2.569561</td>\n",
       "    </tr>\n",
       "    <tr>\n",
       "      <th>4</th>\n",
       "      <td>5SER</td>\n",
       "      <td>4</td>\n",
       "      <td>48.207171</td>\n",
       "      <td>8.366534</td>\n",
       "      <td>0.056757</td>\n",
       "      <td>0.090585</td>\n",
       "      <td>1.077817</td>\n",
       "      <td>0.027817</td>\n",
       "      <td>2.597775</td>\n",
       "      <td>0.384945</td>\n",
       "      <td>0.995299</td>\n",
       "      <td>14.165048</td>\n",
       "      <td>0.0</td>\n",
       "      <td>2.886574</td>\n",
       "      <td>0.346431</td>\n",
       "      <td>0.998745</td>\n",
       "      <td>0.086627</td>\n",
       "      <td>98.007968</td>\n",
       "      <td>2.569561</td>\n",
       "    </tr>\n",
       "    <tr>\n",
       "      <th>5</th>\n",
       "      <td>6VAL</td>\n",
       "      <td>5</td>\n",
       "      <td>65.737052</td>\n",
       "      <td>0.398406</td>\n",
       "      <td>0.055250</td>\n",
       "      <td>0.056369</td>\n",
       "      <td>1.124192</td>\n",
       "      <td>0.008338</td>\n",
       "      <td>14.076645</td>\n",
       "      <td>0.071040</td>\n",
       "      <td>0.999795</td>\n",
       "      <td>15.069725</td>\n",
       "      <td>0.0</td>\n",
       "      <td>2.886574</td>\n",
       "      <td>0.346431</td>\n",
       "      <td>0.998745</td>\n",
       "      <td>0.086627</td>\n",
       "      <td>98.007968</td>\n",
       "      <td>2.569561</td>\n",
       "    </tr>\n",
       "  </tbody>\n",
       "</table>\n",
       "</div>"
      ],
      "text/plain": [
       "  Residue  Residue ID  Occupancy  Occupancy std  Duration  Duration std  \\\n",
       "0    1ILE           0  48.007968       2.191235  0.040816      0.033473   \n",
       "1    2MET           1  14.143426       0.597610  0.030566      0.021493   \n",
       "2    3GLY           2   6.374502       0.000000  0.037895      0.038331   \n",
       "4    5SER           4  48.207171       8.366534  0.056757      0.090585   \n",
       "5    6VAL           5  65.737052       0.398406  0.055250      0.056369   \n",
       "\n",
       "   Lipid Count  Lipid Count std       Koff  Residence Time  R Squared  \\\n",
       "0     1.087129         0.000173  27.501646        0.036361   0.999844   \n",
       "1     1.042925         0.015898  30.874937        0.032389   0.999933   \n",
       "2     1.000000         0.000000  17.343492        0.057659   0.997950   \n",
       "4     1.077817         0.027817   2.597775        0.384945   0.995299   \n",
       "5     1.124192         0.008338  14.076645        0.071040   0.999795   \n",
       "\n",
       "   Koff Bootstrap avg  Binding Site ID  Binding Site Koff  \\\n",
       "0           26.424952              0.0           2.886574   \n",
       "1           33.770820              0.0           2.886574   \n",
       "2           18.580244              0.0           2.886574   \n",
       "4           14.165048              0.0           2.886574   \n",
       "5           15.069725              0.0           2.886574   \n",
       "\n",
       "   Binding Site Residence Time  Binding Site R Squared  Binding Site Duration  \\\n",
       "0                     0.346431                0.998745               0.086627   \n",
       "1                     0.346431                0.998745               0.086627   \n",
       "2                     0.346431                0.998745               0.086627   \n",
       "4                     0.346431                0.998745               0.086627   \n",
       "5                     0.346431                0.998745               0.086627   \n",
       "\n",
       "   Binding Site Occupancy  Binding Site Lipid Count  \n",
       "0               98.007968                  2.569561  \n",
       "1               98.007968                  2.569561  \n",
       "2               98.007968                  2.569561  \n",
       "4               98.007968                  2.569561  \n",
       "5               98.007968                  2.569561  "
      ]
     },
     "execution_count": 11,
     "metadata": {},
     "output_type": "execute_result"
    }
   ],
   "source": [
    "df.head()"
   ]
  },
  {
   "cell_type": "markdown",
   "id": "durable-values",
   "metadata": {},
   "source": [
    "## Analyze bound poses\n",
    "\n",
    "Once the binding sites are defined, we can also proceed to analyze bound poses, e.g. check the most representative bound poses for binding sites and check bound pose clusters for binding sites etc. "
   ]
  },
  {
   "cell_type": "code",
   "execution_count": 12,
   "id": "silver-discipline",
   "metadata": {},
   "outputs": [
    {
     "name": "stdout",
     "output_type": "stream",
     "text": [
      "Creating new director: /Users/lindasong/PyLipID/PyLipID-dev/docs/tutorials/Interaction_CHOL/Bound_Poses_CHOL\n"
     ]
    },
    {
     "name": "stderr",
     "output_type": "stream",
     "text": [
      "ANALYZE BOUND POSES: 100%|██████████| 10/10 [00:10<00:00,  1.09s/it]\n"
     ]
    }
   ],
   "source": [
    "pose_pool, pose_rmsd = li.analyze_bound_poses()"
   ]
  },
  {
   "cell_type": "markdown",
   "id": "therapeutic-width",
   "metadata": {},
   "source": [
    "`analyze_bound_poses()` will rate the bound poses for each binding site based on probability density calculated from the simulation trajectories and write out a couple of top rated poses (controled by `n_poses`). It will also cluster the bound poses for each binding site, for which the number of clusters can be determined by a density based cluster `DBSCAN` or provided via `n_clusters`. The lipid bound poses for each binding site will be returned. The RMSD of bound poses to the binding site average will be returned and plotted in a violin plot. \n",
    "\n",
    "<img src=\"_statics/Pose_RMSD_violinplot.pdf\" width=\"620\" height=\"380\" />"
   ]
  },
  {
   "cell_type": "markdown",
   "id": "rental-contrast",
   "metadata": {},
   "source": [
    "Similar to other analysis functions, `analyze_bound_poses` can also select a couple of binding sites for analysis via `binding_site_id`. \n",
    "\n",
    "The returned pose_pool is a `dict` object that stores bound poses for binding sites. psoe_rmsd is a pandas.DataFrame that stores RMSD for the bound poses (in unit of nm)."
   ]
  },
  {
   "cell_type": "code",
   "execution_count": 13,
   "id": "persistent-atlanta",
   "metadata": {},
   "outputs": [
    {
     "data": {
      "text/html": [
       "<div>\n",
       "<style scoped>\n",
       "    .dataframe tbody tr th:only-of-type {\n",
       "        vertical-align: middle;\n",
       "    }\n",
       "\n",
       "    .dataframe tbody tr th {\n",
       "        vertical-align: top;\n",
       "    }\n",
       "\n",
       "    .dataframe thead th {\n",
       "        text-align: right;\n",
       "    }\n",
       "</style>\n",
       "<table border=\"1\" class=\"dataframe\">\n",
       "  <thead>\n",
       "    <tr style=\"text-align: right;\">\n",
       "      <th></th>\n",
       "      <th>Binding Site 0</th>\n",
       "      <th>Binding Site 1</th>\n",
       "      <th>Binding Site 2</th>\n",
       "      <th>Binding Site 3</th>\n",
       "      <th>Binding Site 4</th>\n",
       "      <th>Binding Site 5</th>\n",
       "      <th>Binding Site 6</th>\n",
       "      <th>Binding Site 7</th>\n",
       "      <th>Binding Site 8</th>\n",
       "      <th>Binding Site 9</th>\n",
       "    </tr>\n",
       "  </thead>\n",
       "  <tbody>\n",
       "    <tr>\n",
       "      <th>0</th>\n",
       "      <td>0.398494</td>\n",
       "      <td>0.453347</td>\n",
       "      <td>0.480430</td>\n",
       "      <td>0.414447</td>\n",
       "      <td>0.477954</td>\n",
       "      <td>0.223619</td>\n",
       "      <td>0.641076</td>\n",
       "      <td>0.491868</td>\n",
       "      <td>0.501663</td>\n",
       "      <td>0.407428</td>\n",
       "    </tr>\n",
       "    <tr>\n",
       "      <th>1</th>\n",
       "      <td>0.308050</td>\n",
       "      <td>0.508066</td>\n",
       "      <td>0.586139</td>\n",
       "      <td>0.483510</td>\n",
       "      <td>0.548540</td>\n",
       "      <td>0.519717</td>\n",
       "      <td>0.514189</td>\n",
       "      <td>0.514480</td>\n",
       "      <td>0.545599</td>\n",
       "      <td>0.522759</td>\n",
       "    </tr>\n",
       "    <tr>\n",
       "      <th>2</th>\n",
       "      <td>0.320346</td>\n",
       "      <td>0.559859</td>\n",
       "      <td>0.430262</td>\n",
       "      <td>0.439258</td>\n",
       "      <td>0.763437</td>\n",
       "      <td>0.230730</td>\n",
       "      <td>0.644078</td>\n",
       "      <td>0.700336</td>\n",
       "      <td>0.682936</td>\n",
       "      <td>0.712557</td>\n",
       "    </tr>\n",
       "    <tr>\n",
       "      <th>3</th>\n",
       "      <td>0.305909</td>\n",
       "      <td>0.505883</td>\n",
       "      <td>0.286762</td>\n",
       "      <td>0.434507</td>\n",
       "      <td>0.586024</td>\n",
       "      <td>0.388090</td>\n",
       "      <td>0.530072</td>\n",
       "      <td>0.372596</td>\n",
       "      <td>0.501795</td>\n",
       "      <td>0.728238</td>\n",
       "    </tr>\n",
       "    <tr>\n",
       "      <th>4</th>\n",
       "      <td>0.382212</td>\n",
       "      <td>0.421467</td>\n",
       "      <td>0.742836</td>\n",
       "      <td>0.410406</td>\n",
       "      <td>0.551884</td>\n",
       "      <td>0.170766</td>\n",
       "      <td>0.375149</td>\n",
       "      <td>0.475495</td>\n",
       "      <td>0.474173</td>\n",
       "      <td>0.362353</td>\n",
       "    </tr>\n",
       "  </tbody>\n",
       "</table>\n",
       "</div>"
      ],
      "text/plain": [
       "   Binding Site 0  Binding Site 1  Binding Site 2  Binding Site 3  \\\n",
       "0        0.398494        0.453347        0.480430        0.414447   \n",
       "1        0.308050        0.508066        0.586139        0.483510   \n",
       "2        0.320346        0.559859        0.430262        0.439258   \n",
       "3        0.305909        0.505883        0.286762        0.434507   \n",
       "4        0.382212        0.421467        0.742836        0.410406   \n",
       "\n",
       "   Binding Site 4  Binding Site 5  Binding Site 6  Binding Site 7  \\\n",
       "0        0.477954        0.223619        0.641076        0.491868   \n",
       "1        0.548540        0.519717        0.514189        0.514480   \n",
       "2        0.763437        0.230730        0.644078        0.700336   \n",
       "3        0.586024        0.388090        0.530072        0.372596   \n",
       "4        0.551884        0.170766        0.375149        0.475495   \n",
       "\n",
       "   Binding Site 8  Binding Site 9  \n",
       "0        0.501663        0.407428  \n",
       "1        0.545599        0.522759  \n",
       "2        0.682936        0.712557  \n",
       "3        0.501795        0.728238  \n",
       "4        0.474173        0.362353  "
      ]
     },
     "execution_count": 13,
     "metadata": {},
     "output_type": "execute_result"
    }
   ],
   "source": [
    "pose_rmsd.head()"
   ]
  },
  {
   "cell_type": "markdown",
   "id": "cardiovascular-investigator",
   "metadata": {},
   "source": [
    "## Calculate surface area\n",
    "\n",
    "We can also calculate the surface area for binding site, obtaining the values as a function of time. "
   ]
  },
  {
   "cell_type": "code",
   "execution_count": 14,
   "id": "ongoing-fence",
   "metadata": {},
   "outputs": [
    {
     "name": "stderr",
     "output_type": "stream",
     "text": [
      "CALCULATE SURFACE AREA PER TRAJ: 100%|██████████| 2/2 [00:19<00:00,  9.89s/it]\n"
     ]
    }
   ],
   "source": [
    "surface_area = li.compute_surface_area(plot_data=True)"
   ]
  },
  {
   "cell_type": "markdown",
   "id": "recent-arrest",
   "metadata": {},
   "source": [
    "The returned `surface_area` is pandas.DataFrame object that stores the time evolution of the surface area for each binding site. The reported values are in the unit of nm^2."
   ]
  },
  {
   "cell_type": "code",
   "execution_count": 15,
   "id": "monthly-stand",
   "metadata": {},
   "outputs": [
    {
     "data": {
      "text/html": [
       "<div>\n",
       "<style scoped>\n",
       "    .dataframe tbody tr th:only-of-type {\n",
       "        vertical-align: middle;\n",
       "    }\n",
       "\n",
       "    .dataframe tbody tr th {\n",
       "        vertical-align: top;\n",
       "    }\n",
       "\n",
       "    .dataframe thead th {\n",
       "        text-align: right;\n",
       "    }\n",
       "</style>\n",
       "<table border=\"1\" class=\"dataframe\">\n",
       "  <thead>\n",
       "    <tr style=\"text-align: right;\">\n",
       "      <th></th>\n",
       "      <th></th>\n",
       "      <th></th>\n",
       "      <th>Binding Site 0</th>\n",
       "      <th>Binding Site 1</th>\n",
       "      <th>Binding Site 2</th>\n",
       "      <th>Binding Site 3</th>\n",
       "      <th>Binding Site 4</th>\n",
       "      <th>Binding Site 5</th>\n",
       "      <th>Binding Site 6</th>\n",
       "      <th>Binding Site 7</th>\n",
       "      <th>Binding Site 8</th>\n",
       "      <th>Binding Site 9</th>\n",
       "      <th>Time</th>\n",
       "    </tr>\n",
       "  </thead>\n",
       "  <tbody>\n",
       "    <tr>\n",
       "      <th rowspan=\"5\" valign=\"top\">0</th>\n",
       "      <th rowspan=\"5\" valign=\"top\">0</th>\n",
       "      <th>0</th>\n",
       "      <td>9.831926</td>\n",
       "      <td>6.162645</td>\n",
       "      <td>14.217576</td>\n",
       "      <td>8.106370</td>\n",
       "      <td>21.574053</td>\n",
       "      <td>4.319067</td>\n",
       "      <td>8.400154</td>\n",
       "      <td>19.111601</td>\n",
       "      <td>9.822882</td>\n",
       "      <td>10.777733</td>\n",
       "      <td>3.00</td>\n",
       "    </tr>\n",
       "    <tr>\n",
       "      <th>1</th>\n",
       "      <td>9.532832</td>\n",
       "      <td>6.518453</td>\n",
       "      <td>13.996737</td>\n",
       "      <td>8.952161</td>\n",
       "      <td>21.588299</td>\n",
       "      <td>4.317808</td>\n",
       "      <td>8.342923</td>\n",
       "      <td>19.478838</td>\n",
       "      <td>10.775518</td>\n",
       "      <td>10.718760</td>\n",
       "      <td>3.02</td>\n",
       "    </tr>\n",
       "    <tr>\n",
       "      <th>2</th>\n",
       "      <td>9.920264</td>\n",
       "      <td>5.824062</td>\n",
       "      <td>14.378225</td>\n",
       "      <td>8.116406</td>\n",
       "      <td>21.076975</td>\n",
       "      <td>4.325853</td>\n",
       "      <td>8.756776</td>\n",
       "      <td>19.252750</td>\n",
       "      <td>10.844900</td>\n",
       "      <td>10.001993</td>\n",
       "      <td>3.04</td>\n",
       "    </tr>\n",
       "    <tr>\n",
       "      <th>3</th>\n",
       "      <td>9.925804</td>\n",
       "      <td>6.969460</td>\n",
       "      <td>13.559234</td>\n",
       "      <td>8.680886</td>\n",
       "      <td>21.540623</td>\n",
       "      <td>4.396411</td>\n",
       "      <td>9.086758</td>\n",
       "      <td>19.427549</td>\n",
       "      <td>9.927571</td>\n",
       "      <td>10.028803</td>\n",
       "      <td>3.06</td>\n",
       "    </tr>\n",
       "    <tr>\n",
       "      <th>4</th>\n",
       "      <td>9.200138</td>\n",
       "      <td>6.094445</td>\n",
       "      <td>14.480817</td>\n",
       "      <td>9.937469</td>\n",
       "      <td>21.841776</td>\n",
       "      <td>4.352310</td>\n",
       "      <td>8.739532</td>\n",
       "      <td>18.872972</td>\n",
       "      <td>10.298021</td>\n",
       "      <td>9.405209</td>\n",
       "      <td>3.08</td>\n",
       "    </tr>\n",
       "  </tbody>\n",
       "</table>\n",
       "</div>"
      ],
      "text/plain": [
       "       Binding Site 0  Binding Site 1  Binding Site 2  Binding Site 3  \\\n",
       "0 0 0        9.831926        6.162645       14.217576        8.106370   \n",
       "    1        9.532832        6.518453       13.996737        8.952161   \n",
       "    2        9.920264        5.824062       14.378225        8.116406   \n",
       "    3        9.925804        6.969460       13.559234        8.680886   \n",
       "    4        9.200138        6.094445       14.480817        9.937469   \n",
       "\n",
       "       Binding Site 4  Binding Site 5  Binding Site 6  Binding Site 7  \\\n",
       "0 0 0       21.574053        4.319067        8.400154       19.111601   \n",
       "    1       21.588299        4.317808        8.342923       19.478838   \n",
       "    2       21.076975        4.325853        8.756776       19.252750   \n",
       "    3       21.540623        4.396411        9.086758       19.427549   \n",
       "    4       21.841776        4.352310        8.739532       18.872972   \n",
       "\n",
       "       Binding Site 8  Binding Site 9  Time  \n",
       "0 0 0        9.822882       10.777733  3.00  \n",
       "    1       10.775518       10.718760  3.02  \n",
       "    2       10.844900       10.001993  3.04  \n",
       "    3        9.927571       10.028803  3.06  \n",
       "    4       10.298021        9.405209  3.08  "
      ]
     },
     "execution_count": 15,
     "metadata": {},
     "output_type": "execute_result"
    }
   ],
   "source": [
    "surface_area.head()"
   ]
  },
  {
   "cell_type": "markdown",
   "id": "limiting-panel",
   "metadata": {},
   "source": [
    "`print_data=True` generates a timeseries plot and a violinplot. \n",
    "\n",
    "<img src=\"_statics/Surface_Area_timeseries.pdf\" />\n",
    "\n",
    "<img src=\"_statics/Surface_Area_violinplot.pdf\" />"
   ]
  },
  {
   "cell_type": "markdown",
   "id": "equipped-venice",
   "metadata": {},
   "source": [
    "Similar to other binding site analysis functions, `compute_surface_area` allows for selection of binding site for calculation via `binding_site_id`.\n"
   ]
  },
  {
   "cell_type": "markdown",
   "id": "entire-biology",
   "metadata": {},
   "source": [
    "The calculation of surface area needs definition of the radii of atoms in the system. The function uses `mdtraj`'s atom radii and defines the radii of MARTINI 2 beads. New radii definition can be provided via `radii`. "
   ]
  },
  {
   "cell_type": "markdown",
   "id": "compound-break",
   "metadata": {},
   "source": [
    "## Plots and save data\n",
    "\n",
    "The `LipidInteraction` provides a couple of assisting functions to plot and save data. "
   ]
  },
  {
   "cell_type": "code",
   "execution_count": 16,
   "id": "applied-circular",
   "metadata": {},
   "outputs": [
    {
     "name": "stdout",
     "output_type": "stream",
     "text": [
      "Creating new director: /Users/lindasong/PyLipID/PyLipID-dev/docs/tutorials/Interaction_CHOL/Figure_CHOL\n"
     ]
    }
   ],
   "source": [
    "for item in [\"Residence Time\", \"Duration\", \"Occupancy\", \"Lipid Count\"]:\n",
    "    li.plot(item=item) # plot values as a function of time"
   ]
  },
  {
   "cell_type": "markdown",
   "id": "quiet-benefit",
   "metadata": {},
   "source": [
    "<img src=\"_statics/Residence_Time.pdf\" width=\"520\" height=\"380\" />\n",
    "\n",
    "<img src=\"_statics/Duration.pdf\" width=\"520\" height=\"380\" />\n",
    "\n",
    "<img src=\"_statics/Occupancy.pdf\" width=\"520\" height=\"380\" />\n",
    "\n",
    "<img src=\"_statics/Lipid_Count.pdf\" width=\"520\" height=\"380\" />"
   ]
  },
  {
   "cell_type": "code",
   "execution_count": 17,
   "id": "clear-december",
   "metadata": {},
   "outputs": [],
   "source": [
    "li.plot_logo(item=\"Residence Time\")"
   ]
  },
  {
   "cell_type": "markdown",
   "id": "responsible-notice",
   "metadata": {},
   "source": [
    "<img src=\"_statics/Residence_Time_logo.pdf\" width=\"320\" height=\"380\" />"
   ]
  },
  {
   "cell_type": "code",
   "execution_count": 18,
   "id": "conditional-freeware",
   "metadata": {},
   "outputs": [
    {
     "name": "stdout",
     "output_type": "stream",
     "text": [
      "Creating new director: /Users/lindasong/PyLipID/PyLipID-dev/docs/tutorials/Interaction_CHOL/Dataset_CHOL\n",
      "Creating new director: /Users/lindasong/PyLipID/PyLipID-dev/docs/tutorials/Interaction_CHOL/Coordinate_CHOL\n"
     ]
    }
   ],
   "source": [
    "li.write_site_info(sort_residue=\"Duration\") # write binding site information in a txt file\n",
    "\n",
    "li.save_data(item=\"Dataset\") # save the pandas.DataFrame object dataset in a csv file\n",
    "\n",
    "li.save_data(item=\"Duration\") # save all the interaction durations in pickle\n",
    "\n",
    "li.save_coordinate(item=\"Residence Time\") # write protein coordinate in pdb format with the b factor column\n",
    "                                          # showing 'Residence Time' values\n",
    "\n",
    "li.save_pymol_script(pdb_file=\"../../tests/data/receptor.pdb\") # write a pymol script that maps binding \n",
    "                                                               # site information to protein structure. "
   ]
  }
 ],
 "metadata": {
  "kernelspec": {
   "display_name": "Python 3",
   "language": "python",
   "name": "python3"
  },
  "language_info": {
   "codemirror_mode": {
    "name": "ipython",
    "version": 3
   },
   "file_extension": ".py",
   "mimetype": "text/x-python",
   "name": "python",
   "nbconvert_exporter": "python",
   "pygments_lexer": "ipython3",
   "version": "3.8.3"
  },
  "toc": {
   "base_numbering": 1,
   "nav_menu": {},
   "number_sections": true,
   "sideBar": true,
   "skip_h1_title": false,
   "title_cell": "Table of Contents",
   "title_sidebar": "Contents",
   "toc_cell": false,
   "toc_position": {},
   "toc_section_display": true,
   "toc_window_display": true
  }
 },
 "nbformat": 4,
 "nbformat_minor": 5
}
