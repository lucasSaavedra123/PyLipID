{
 "cells": [
  {
   "cell_type": "markdown",
   "id": "theoretical-klein",
   "metadata": {},
   "source": [
    "# 0-application-walk-thourgh\n",
    "\n",
    "In this notebook, we introduce the basics of PyLipID via a walk-through application. We keep the details to minimum and invite users to refer to other specific notebooks in which you can find more details, exercise and theory. \n",
    "\n",
    "In this tutorial, we show the PyLipID workflow of checking the lipid interactions a Class A GPCR, Adenosine A2a receptor from coarse-grained simulations with a complex membrane bilayer that contains 7 lipid species. \n",
    "\n",
    "<img src=\"statics/A2aR_system_overview.png\" />\n",
    "\n",
    "The simulation ensemble reported in the original paper contained 10 repeats, but here we took 2 of the repeats for demonstration and saved in two directories ``run1`` and ``run2``, both of which contains a simulation trajectory ``protein_lipids.xtc`` and a corresponding topology coordinate ``protein_lipids.gro``. The two simulation trajectories have the same topology but different initial configurations. The trajectories were saved with a 20 ns timestep. "
   ]
  },
  {
   "cell_type": "code",
   "execution_count": 1,
   "id": "thrown-granny",
   "metadata": {},
   "outputs": [],
   "source": [
    "%matplotlib inline\n",
    "import pylipid\n",
    "from pylipid.api import LipidInteraction"
   ]
  },
  {
   "cell_type": "markdown",
   "id": "moving-buddy",
   "metadata": {},
   "source": [
    "## Load data\n",
    "\n",
    "We start by initializing the main class `LipidInteraction`. "
   ]
  },
  {
   "cell_type": "markdown",
   "id": "united-missouri",
   "metadata": {},
   "source": [
    "Trajectories and topology coordinates of the two repeats were saved in the directory ``../../tests/data``. Thus we first create a `trajfile_list` and `topfile_list`. Then, we load the `trajfile_list` and `topfile_list` to `LipidInteraction` together with a couple of calculation settings, including what cutoffs to use, which lipid to check, which lipid atoms are used to define the interactions and what time unit the generated data use etc. You can also specify which directory the generated data should be saved at. But here we will use the default value, i.e. the current working directory. "
   ]
  },
  {
   "cell_type": "code",
   "execution_count": 2,
   "id": "dense-store",
   "metadata": {},
   "outputs": [],
   "source": [
    "trajfile_list = [\"../../tests/data/run1/protein_lipids.xtc\", \"../../tests/data/run2/protein_lipids.xtc\"]\n",
    "topfile_list = [\"../../tests/data/run1/protein_lipids.gro\", \"../../tests/data/run2/protein_lipids.gro\"]\n",
    "lipid = \"CHOL\"\n",
    "cutoffs = [0.55, 0.8]\n",
    "nprot = 1\n",
    "timeunit = 'us' # micro-second\n",
    "\n",
    "# initialize \n",
    "li = LipidInteraction(trajfile_list, topfile_list, cutoffs=cutoffs, lipid=lipid, nprot=nprot)"
   ]
  },
  {
   "cell_type": "markdown",
   "id": "duplicate-pleasure",
   "metadata": {},
   "source": [
    "## Collect interactions for residues\n",
    "\n",
    "Calculate interaction durations, occupancy and lipid count from trajectories. The correlation coefficient matrix will also be calculated from these interactions. A pandas.DataFrame object will be created to store the generated data and be stored as a class instance object `dataset`. "
   ]
  },
  {
   "cell_type": "code",
   "execution_count": 3,
   "id": "stupid-pricing",
   "metadata": {},
   "outputs": [
    {
     "name": "stderr",
     "output_type": "stream",
     "text": [
      "COLLECT INTERACTIONS FROM TRAJECTORIES: 100%|██████████| 2/2 [00:49<00:00, 24.77s/it]\n"
     ]
    }
   ],
   "source": [
    "li.collect_residue_contacts(write_log=True, print_log=False)\n",
    "\n",
    "# print_log=True will print out the residues with the highest interaction durations, interaction \n",
    "# occupancy and lipid count from each trajectory. \n",
    "\n",
    "# write_log=True will write such information in a log file. "
   ]
  },
  {
   "cell_type": "markdown",
   "id": "medical-relaxation",
   "metadata": {},
   "source": [
    "After calculation, a couple of class instance objects are generated. For example, the instance object `durations` stores the durations of lipid interaction with protein residues in a dictionary object. "
   ]
  },
  {
   "cell_type": "code",
   "execution_count": 4,
   "id": "answering-transition",
   "metadata": {},
   "outputs": [
    {
     "name": "stdout",
     "output_type": "stream",
     "text": [
      "[[0.02, 0.02, 0.02, 0.02, 0.02, 0.02, 0.02, 0.02, 0.02, 0.02, 0.04, 0.04, 0.04, 0.16, 0.26], [0.02, 0.02, 0.02, 0.02, 0.04, 0.06, 0.08, 0.1, 0.12, 0.14, 0.18, 0.26, 0.38]]\n"
     ]
    }
   ],
   "source": [
    "residue_id = 20\n",
    "print(li.durations[residue_id])"
   ]
  },
  {
   "cell_type": "markdown",
   "id": "worse-generator",
   "metadata": {},
   "source": [
    "It shows cholesterol interaction with the 21th residue (index starting from 0) in a list of two lists, each of which contains interactions durations from the corresponding trajectory in `trajfile_list`. \n",
    "\n",
    "A class instance object `dataset` is also generated, which stores the averages of various interaction metrics for each residues. The information in this `dataset` will be expanded to include that of the binding site after the calculation of binding site interaction has been carried out. "
   ]
  },
  {
   "cell_type": "code",
   "execution_count": 5,
   "id": "religious-aging",
   "metadata": {},
   "outputs": [
    {
     "data": {
      "text/html": [
       "<div>\n",
       "<style scoped>\n",
       "    .dataframe tbody tr th:only-of-type {\n",
       "        vertical-align: middle;\n",
       "    }\n",
       "\n",
       "    .dataframe tbody tr th {\n",
       "        vertical-align: top;\n",
       "    }\n",
       "\n",
       "    .dataframe thead th {\n",
       "        text-align: right;\n",
       "    }\n",
       "</style>\n",
       "<table border=\"1\" class=\"dataframe\">\n",
       "  <thead>\n",
       "    <tr style=\"text-align: right;\">\n",
       "      <th></th>\n",
       "      <th>Residue</th>\n",
       "      <th>Residue ID</th>\n",
       "      <th>Occupancy</th>\n",
       "      <th>Occupancy std</th>\n",
       "      <th>Duration</th>\n",
       "      <th>Duration std</th>\n",
       "      <th>Lipid Count</th>\n",
       "      <th>Lipid Count std</th>\n",
       "    </tr>\n",
       "  </thead>\n",
       "  <tbody>\n",
       "    <tr>\n",
       "      <th>0</th>\n",
       "      <td>1ILE</td>\n",
       "      <td>0</td>\n",
       "      <td>48.007968</td>\n",
       "      <td>2.191235</td>\n",
       "      <td>0.040816</td>\n",
       "      <td>0.033473</td>\n",
       "      <td>1.087129</td>\n",
       "      <td>0.000173</td>\n",
       "    </tr>\n",
       "    <tr>\n",
       "      <th>1</th>\n",
       "      <td>2MET</td>\n",
       "      <td>1</td>\n",
       "      <td>14.143426</td>\n",
       "      <td>0.597610</td>\n",
       "      <td>0.030566</td>\n",
       "      <td>0.021493</td>\n",
       "      <td>1.042925</td>\n",
       "      <td>0.015898</td>\n",
       "    </tr>\n",
       "    <tr>\n",
       "      <th>2</th>\n",
       "      <td>3GLY</td>\n",
       "      <td>2</td>\n",
       "      <td>6.374502</td>\n",
       "      <td>0.000000</td>\n",
       "      <td>0.037895</td>\n",
       "      <td>0.038331</td>\n",
       "      <td>1.000000</td>\n",
       "      <td>0.000000</td>\n",
       "    </tr>\n",
       "    <tr>\n",
       "      <th>3</th>\n",
       "      <td>4SER</td>\n",
       "      <td>3</td>\n",
       "      <td>1.992032</td>\n",
       "      <td>1.992032</td>\n",
       "      <td>0.048571</td>\n",
       "      <td>0.070797</td>\n",
       "      <td>0.500000</td>\n",
       "      <td>0.500000</td>\n",
       "    </tr>\n",
       "    <tr>\n",
       "      <th>4</th>\n",
       "      <td>5SER</td>\n",
       "      <td>4</td>\n",
       "      <td>48.207171</td>\n",
       "      <td>8.366534</td>\n",
       "      <td>0.056757</td>\n",
       "      <td>0.090585</td>\n",
       "      <td>1.077817</td>\n",
       "      <td>0.027817</td>\n",
       "    </tr>\n",
       "  </tbody>\n",
       "</table>\n",
       "</div>"
      ],
      "text/plain": [
       "  Residue  Residue ID  Occupancy  Occupancy std  Duration  Duration std  \\\n",
       "0    1ILE           0  48.007968       2.191235  0.040816      0.033473   \n",
       "1    2MET           1  14.143426       0.597610  0.030566      0.021493   \n",
       "2    3GLY           2   6.374502       0.000000  0.037895      0.038331   \n",
       "3    4SER           3   1.992032       1.992032  0.048571      0.070797   \n",
       "4    5SER           4  48.207171       8.366534  0.056757      0.090585   \n",
       "\n",
       "   Lipid Count  Lipid Count std  \n",
       "0     1.087129         0.000173  \n",
       "1     1.042925         0.015898  \n",
       "2     1.000000         0.000000  \n",
       "3     0.500000         0.500000  \n",
       "4     1.077817         0.027817  "
      ]
     },
     "execution_count": 5,
     "metadata": {},
     "output_type": "execute_result"
    }
   ],
   "source": [
    "li.dataset.head()"
   ]
  },
  {
   "cell_type": "markdown",
   "id": "interesting-ratio",
   "metadata": {},
   "source": [
    "The `LipidInteraction` class also has a couple of assisting functions that provide quick access to the class attributes. "
   ]
  },
  {
   "cell_type": "markdown",
   "id": "intimate-developer",
   "metadata": {},
   "source": [
    "## Calculate koff/residence time for residues\n",
    "\n",
    "We next move to calculate the interaction koff and residence time for protein residues. This calculation has to be run after ``collect_residue_contacts()`` as the koff is calculated from interaction durations. "
   ]
  },
  {
   "cell_type": "code",
   "execution_count": 6,
   "id": "sacred-swimming",
   "metadata": {},
   "outputs": [],
   "source": [
    "koffs, res_times = li.compute_residue_koff(print_data=False, plot_data=True)\n",
    "\n",
    "# if you are interested in only a couple of residues or one specific residue, you can provide a list\n",
    "# of residue id or one residue id as follow:\n",
    "# li.compute_residue_koff(residue_id=[10,15,25,35])\n",
    "# li.compute_residue_koff(residue_id=10)"
   ]
  },
  {
   "cell_type": "markdown",
   "id": "instant-start",
   "metadata": {},
   "source": [
    "`print_data=True` will print out the calculated interactions for the residues. It can be quite verbose.\n",
    "\n",
    "`plot_data=True` will plot the koff figure for the residues. The directory to save such figures can be changed by save_dir, otherwise they will be saved in the directory of the Residue_koff_{lipid} at the current working directory. "
   ]
  },
  {
   "cell_type": "markdown",
   "id": "charming-external",
   "metadata": {},
   "source": [
    "The koff figure looks like this:\n",
    "\n",
    "<img src=\"statics/koff_figure.png\" />\n",
    "\n",
    "The left panel plots the interactions durations in the sorted order and the right panel plots the normalised survival rates of these interactions (the purple doted line) and the bi-exponential curve fitted to survival curve (red broken line). To check the sampling quality, the fitted curve of the bootstraped interaction durations are plotted in gray lines. "
   ]
  },
  {
   "cell_type": "markdown",
   "id": "informal-factor",
   "metadata": {},
   "source": [
    "## Calculate binding sites\n",
    "\n",
    "Before calculation of interactions with binding sites, we need to calculate where the binding sites are. "
   ]
  },
  {
   "cell_type": "code",
   "execution_count": 9,
   "id": "every-lighter",
   "metadata": {},
   "outputs": [],
   "source": [
    "node_list = li.compute_binding_nodes(threshold=4, print_data=False)\n",
    "\n",
    "# threshold=4 decides that binding sites should contain at least 4 residues. \n",
    "# print_data=True will print the residues for each binding site. It can be quite verbose. "
   ]
  },
  {
   "cell_type": "code",
   "execution_count": 10,
   "id": "crude-newark",
   "metadata": {},
   "outputs": [
    {
     "name": "stdout",
     "output_type": "stream",
     "text": [
      "[[0, 1, 2, 4, 5, 6, 8, 9, 10, 12, 13, 16, 265, 268, 272, 276, 279], [3, 7, 11, 14, 15, 18, 53, 54, 57, 58, 61, 64, 65], [19, 20, 22, 23, 26, 30, 282, 286, 293, 294, 296, 297, 298, 299, 300, 301], [25, 28, 29, 35, 40, 43, 44, 47, 48, 50, 51, 55, 80, 83, 84, 116, 119, 120, 122, 123, 126, 127, 130], [41, 90, 91, 93, 94, 96, 97, 98, 100, 101, 104, 105, 107, 108, 109, 111, 112, 113, 114, 117, 121, 124, 125, 128, 129, 132, 177, 181, 182, 185, 186, 189, 190, 193, 207], [59, 62, 67, 69, 70, 73, 74, 76, 77], [72, 131, 134, 135, 136, 137, 138, 139, 140, 173], [175, 176, 179, 180, 183, 184, 187, 188, 191, 192, 194, 195, 196, 198, 199, 201, 202, 203, 226, 233, 236, 237, 239, 240, 243, 244, 251, 254, 255], [227, 230, 231, 234, 235, 238, 242, 273, 277, 280, 281, 283, 284, 287, 288], [241, 245, 246, 248, 249, 252, 253, 256, 259, 260, 262, 263, 266, 267, 269, 270]]\n"
     ]
    }
   ],
   "source": [
    "print(node_list)"
   ]
  },
  {
   "cell_type": "markdown",
   "id": "atomic-channels",
   "metadata": {},
   "source": [
    "This function returns a node list, which is also retored in the class instance object node_list. The node list is a list of lists, each of which contains residues for a binding site.  "
   ]
  },
  {
   "cell_type": "markdown",
   "id": "protective-learning",
   "metadata": {},
   "source": [
    "## Calculate interactions with binding sites\n",
    "\n",
    "Once binding sites are defined, we can move to the calculation of interactions with binding sites. "
   ]
  },
  {
   "cell_type": "code",
   "execution_count": 11,
   "id": "fallen-campbell",
   "metadata": {},
   "outputs": [
    {
     "name": "stderr",
     "output_type": "stream",
     "text": [
      "CALCULATE INTERACTIONS FOR BINDING SITES: 100%|██████████| 10/10 [00:06<00:00,  1.64it/s]\n"
     ]
    }
   ],
   "source": [
    "koffs_bs, res_time_bs = li.compute_site_koff(print_data=False, plot_data=True, sort_residue=\"Residence Time\")"
   ]
  },
  {
   "cell_type": "markdown",
   "id": "entire-hampshire",
   "metadata": {},
   "source": [
    "`print_data=True` will print out information for binding sites in which the comprising residues are sorted based on the value defined by `sort_residue`. Such information can be written out in a log file by `li.write_site_info()`. Similar to `compute_residue_koff()`, `compute_site_koff` also can plot the koff figure for binding sites, controled by `plot_data`. Specific binding sites can also be selected for calculated via `binding_site_id`. \n",
    "\n",
    "`koffs_bs` stores koffs for binding sites in a list and `res_time_bs` stores residence times for binding sites ina list. "
   ]
  },
  {
   "cell_type": "code",
   "execution_count": 13,
   "id": "prompt-junction",
   "metadata": {},
   "outputs": [
    {
     "name": "stdout",
     "output_type": "stream",
     "text": [
      "[3.045836950527779, 2.389003330062132, 9.442140102579902, 2.4055879456074045, 4.663923639120845, 4.2258884250499875, 6.465134977362397, 7.24927898237628, 3.7054879241121697, 1.2962624878052542]\n"
     ]
    }
   ],
   "source": [
    "print(koffs_bs)"
   ]
  },
  {
   "cell_type": "code",
   "execution_count": 14,
   "id": "authorized-jewel",
   "metadata": {},
   "outputs": [
    {
     "name": "stderr",
     "output_type": "stream",
     "text": [
      "CALCULATE INTERACTIONS FOR BINDING SITES: 100%|██████████| 1/1 [00:00<00:00,  3.48it/s]"
     ]
    },
    {
     "name": "stdout",
     "output_type": "stream",
     "text": [
      "# Binding site 2\n",
      " Binding Site Residence Time:       0.106 us   \n",
      " Binding Site Koff:                 9.442  R squared:  0.9993\n",
      " Binding Site Duration:             0.059 us   \n",
      " Binding Site Occupancy:           88.048 %\n",
      " Binding Site Lipid Count:          1.769\n",
      " Pos. Charge:        4/16      \n",
      " Neg. Charge:        0/16      \n",
      " Polar:              1/16      \n",
      " Hydrophobic:        9/16      \n",
      " Special:            2/16      \n",
      " Residue Res ID  Res. Time (us)  Duration (us)   Occupancy (%) Lipid Count  Koff  R Squared \n",
      "  21GLY    20        0.218           0.078          15.538        1.010     4.598   0.998   \n",
      "  24LEU    23        0.164           0.113          50.598        1.074     6.081   1.000   \n",
      " 302ARG    301       0.149           0.045          39.044        1.062     6.702   1.000   \n",
      " 294ARG    293       0.145           0.044           7.570        1.000     6.882   0.999   \n",
      "  27TRP    26        0.120           0.075          48.207        1.103     8.361   0.999   \n",
      " 300ILE    299       0.115           0.096          36.853        1.049     8.685   0.999   \n",
      "  20LEU    19        0.111           0.060          71.116        1.280     9.015   0.999   \n",
      " 297PHE    296       0.105           0.071          23.506        1.033     9.554   0.999   \n",
      "  23VAL    22        0.090           0.066          44.223        1.093    11.093   0.995   \n",
      " 301ILE    300       0.078           0.064          62.151        1.150    12.765   1.000   \n",
      " 298ARG    297       0.071           0.043          27.689        1.015    14.097   0.999   \n",
      "  31LEU    30        0.059           0.055          13.347        1.000    16.932   1.000   \n",
      " 283PRO    282       0.058           0.044           6.175        1.025    17.258   0.999   \n",
      " 287ALA    286       0.044           0.043           5.179        1.000    22.490   0.999   \n",
      " 299LYS    298       0.024           0.029           2.789        1.056    40.958   1.000   \n",
      " 295GLN    294       0.000           0.010           0.199        0.500     0.000   -0.004  \n",
      "\n",
      "\n",
      "\n"
     ]
    },
    {
     "name": "stderr",
     "output_type": "stream",
     "text": [
      "\n"
     ]
    },
    {
     "data": {
      "text/plain": [
       "(9.442179815370299, 0.10590774795160819)"
      ]
     },
     "execution_count": 14,
     "metadata": {},
     "output_type": "execute_result"
    }
   ],
   "source": [
    "li.compute_site_koff(binding_site_id=2, print_data=True, plot_data=False, sort_residue=\"Residence Time\")"
   ]
  },
  {
   "cell_type": "markdown",
   "id": "critical-peoples",
   "metadata": {},
   "source": [
    "The binding site information can also be viewed by the class attribute:"
   ]
  },
  {
   "cell_type": "code",
   "execution_count": 15,
   "id": "religious-senator",
   "metadata": {},
   "outputs": [
    {
     "name": "stdout",
     "output_type": "stream",
     "text": [
      "# Binding site 0\n",
      " Binding Site Residence Time:       0.328 us   \n",
      " Binding Site Koff:                 3.046  R squared:  0.9993\n",
      " Binding Site Duration:             0.087 us   \n",
      " Binding Site Occupancy:           99.602 %\n",
      " Binding Site Lipid Count:          3.098\n",
      " Pos. Charge:        0/17      \n",
      " Neg. Charge:        1/17      \n",
      " Polar:              3/17      \n",
      " Hydrophobic:        12/17     \n",
      " Special:            1/17      \n",
      " Residue Res ID  Res. Time (us)  Duration (us)   Occupancy (%) Lipid Count  Koff  R Squared \n",
      "  5SER      4        0.385           0.057          48.207        1.078     2.598   0.995   \n",
      " 269TYR    268       0.370           0.230           1.992        0.500     2.701   0.973   \n",
      "  14ILE    13        0.262           0.084          65.538        1.052     3.818   0.999   \n",
      "  10VAL     9        0.241           0.073          83.665        1.326     4.147   0.999   \n",
      "  7TYR      6        0.241           0.080          50.398        1.059     4.154   0.997   \n",
      " 273VAL    272       0.233           0.084          59.163        1.088     4.300   0.997   \n",
      "  11GLU    10        0.231           0.142          40.239        1.010     4.320   0.999   \n",
      " 266TRP    265       0.198           0.052          18.327        1.027     5.046   0.995   \n",
      " 277THR    276       0.135           0.093          75.498        1.306     7.421   0.978   \n",
      "  13ALA    12        0.092           0.053          67.131        1.217    10.883   1.000   \n",
      "  6VAL      5        0.071           0.055          65.737        1.124    14.077   1.000   \n",
      "  9THR      8        0.065           0.059          73.904        1.236    15.413   0.969   \n",
      " 280VAL    279       0.060           0.056          36.056        1.054    16.680   1.000   \n",
      "  17LEU    16        0.059           0.047          67.729        1.311    17.043   1.000   \n",
      "  3GLY      2        0.058           0.038           6.375        1.000    17.343   0.998   \n",
      "  1ILE      0        0.036           0.041          48.008        1.087    27.502   1.000   \n",
      "  2MET      1        0.032           0.031          14.143        1.043    30.875   1.000   \n",
      "\n",
      "\n",
      "\n"
     ]
    }
   ],
   "source": [
    "df = li.binding_site(binding_site_id=0)"
   ]
  },
  {
   "cell_type": "markdown",
   "id": "sorted-howard",
   "metadata": {},
   "source": [
    "The returned `df` is a pandas.DataFrame object that contains the residues of the selected binding site and their interaction data. "
   ]
  },
  {
   "cell_type": "code",
   "execution_count": 16,
   "id": "utility-persian",
   "metadata": {},
   "outputs": [
    {
     "data": {
      "text/html": [
       "<div>\n",
       "<style scoped>\n",
       "    .dataframe tbody tr th:only-of-type {\n",
       "        vertical-align: middle;\n",
       "    }\n",
       "\n",
       "    .dataframe tbody tr th {\n",
       "        vertical-align: top;\n",
       "    }\n",
       "\n",
       "    .dataframe thead th {\n",
       "        text-align: right;\n",
       "    }\n",
       "</style>\n",
       "<table border=\"1\" class=\"dataframe\">\n",
       "  <thead>\n",
       "    <tr style=\"text-align: right;\">\n",
       "      <th></th>\n",
       "      <th>Residue</th>\n",
       "      <th>Residue ID</th>\n",
       "      <th>Occupancy</th>\n",
       "      <th>Occupancy std</th>\n",
       "      <th>Duration</th>\n",
       "      <th>Duration std</th>\n",
       "      <th>Lipid Count</th>\n",
       "      <th>Lipid Count std</th>\n",
       "      <th>Koff</th>\n",
       "      <th>Residence Time</th>\n",
       "      <th>R Squared</th>\n",
       "      <th>Koff Bootstrap avg</th>\n",
       "      <th>Binding Site ID</th>\n",
       "      <th>Binding Site Koff</th>\n",
       "      <th>Binding Site Residence Time</th>\n",
       "      <th>Binding Site R Squared</th>\n",
       "      <th>Binding Site Duration</th>\n",
       "      <th>Binding Site Occupancy</th>\n",
       "      <th>Binding Site Lipid Count</th>\n",
       "    </tr>\n",
       "  </thead>\n",
       "  <tbody>\n",
       "    <tr>\n",
       "      <th>0</th>\n",
       "      <td>1ILE</td>\n",
       "      <td>0</td>\n",
       "      <td>48.007968</td>\n",
       "      <td>2.191235</td>\n",
       "      <td>0.040816</td>\n",
       "      <td>0.033473</td>\n",
       "      <td>1.087129</td>\n",
       "      <td>0.000173</td>\n",
       "      <td>27.501646</td>\n",
       "      <td>0.036361</td>\n",
       "      <td>0.999844</td>\n",
       "      <td>26.991207</td>\n",
       "      <td>0.0</td>\n",
       "      <td>3.045837</td>\n",
       "      <td>0.328317</td>\n",
       "      <td>0.999281</td>\n",
       "      <td>0.087488</td>\n",
       "      <td>99.601594</td>\n",
       "      <td>3.098</td>\n",
       "    </tr>\n",
       "    <tr>\n",
       "      <th>1</th>\n",
       "      <td>2MET</td>\n",
       "      <td>1</td>\n",
       "      <td>14.143426</td>\n",
       "      <td>0.597610</td>\n",
       "      <td>0.030566</td>\n",
       "      <td>0.021493</td>\n",
       "      <td>1.042925</td>\n",
       "      <td>0.015898</td>\n",
       "      <td>30.874937</td>\n",
       "      <td>0.032389</td>\n",
       "      <td>0.999933</td>\n",
       "      <td>30.640815</td>\n",
       "      <td>0.0</td>\n",
       "      <td>3.045837</td>\n",
       "      <td>0.328317</td>\n",
       "      <td>0.999281</td>\n",
       "      <td>0.087488</td>\n",
       "      <td>99.601594</td>\n",
       "      <td>3.098</td>\n",
       "    </tr>\n",
       "    <tr>\n",
       "      <th>2</th>\n",
       "      <td>3GLY</td>\n",
       "      <td>2</td>\n",
       "      <td>6.374502</td>\n",
       "      <td>0.000000</td>\n",
       "      <td>0.037895</td>\n",
       "      <td>0.038331</td>\n",
       "      <td>1.000000</td>\n",
       "      <td>0.000000</td>\n",
       "      <td>17.343492</td>\n",
       "      <td>0.057659</td>\n",
       "      <td>0.997950</td>\n",
       "      <td>25.681185</td>\n",
       "      <td>0.0</td>\n",
       "      <td>3.045837</td>\n",
       "      <td>0.328317</td>\n",
       "      <td>0.999281</td>\n",
       "      <td>0.087488</td>\n",
       "      <td>99.601594</td>\n",
       "      <td>3.098</td>\n",
       "    </tr>\n",
       "    <tr>\n",
       "      <th>4</th>\n",
       "      <td>5SER</td>\n",
       "      <td>4</td>\n",
       "      <td>48.207171</td>\n",
       "      <td>8.366534</td>\n",
       "      <td>0.056757</td>\n",
       "      <td>0.090585</td>\n",
       "      <td>1.077817</td>\n",
       "      <td>0.027817</td>\n",
       "      <td>2.597775</td>\n",
       "      <td>0.384945</td>\n",
       "      <td>0.995299</td>\n",
       "      <td>9.309541</td>\n",
       "      <td>0.0</td>\n",
       "      <td>3.045837</td>\n",
       "      <td>0.328317</td>\n",
       "      <td>0.999281</td>\n",
       "      <td>0.087488</td>\n",
       "      <td>99.601594</td>\n",
       "      <td>3.098</td>\n",
       "    </tr>\n",
       "    <tr>\n",
       "      <th>5</th>\n",
       "      <td>6VAL</td>\n",
       "      <td>5</td>\n",
       "      <td>65.737052</td>\n",
       "      <td>0.398406</td>\n",
       "      <td>0.055250</td>\n",
       "      <td>0.056369</td>\n",
       "      <td>1.124192</td>\n",
       "      <td>0.008338</td>\n",
       "      <td>14.076645</td>\n",
       "      <td>0.071040</td>\n",
       "      <td>0.999795</td>\n",
       "      <td>14.058107</td>\n",
       "      <td>0.0</td>\n",
       "      <td>3.045837</td>\n",
       "      <td>0.328317</td>\n",
       "      <td>0.999281</td>\n",
       "      <td>0.087488</td>\n",
       "      <td>99.601594</td>\n",
       "      <td>3.098</td>\n",
       "    </tr>\n",
       "  </tbody>\n",
       "</table>\n",
       "</div>"
      ],
      "text/plain": [
       "  Residue  Residue ID  Occupancy  Occupancy std  Duration  Duration std  \\\n",
       "0    1ILE           0  48.007968       2.191235  0.040816      0.033473   \n",
       "1    2MET           1  14.143426       0.597610  0.030566      0.021493   \n",
       "2    3GLY           2   6.374502       0.000000  0.037895      0.038331   \n",
       "4    5SER           4  48.207171       8.366534  0.056757      0.090585   \n",
       "5    6VAL           5  65.737052       0.398406  0.055250      0.056369   \n",
       "\n",
       "   Lipid Count  Lipid Count std       Koff  Residence Time  R Squared  \\\n",
       "0     1.087129         0.000173  27.501646        0.036361   0.999844   \n",
       "1     1.042925         0.015898  30.874937        0.032389   0.999933   \n",
       "2     1.000000         0.000000  17.343492        0.057659   0.997950   \n",
       "4     1.077817         0.027817   2.597775        0.384945   0.995299   \n",
       "5     1.124192         0.008338  14.076645        0.071040   0.999795   \n",
       "\n",
       "   Koff Bootstrap avg  Binding Site ID  Binding Site Koff  \\\n",
       "0           26.991207              0.0           3.045837   \n",
       "1           30.640815              0.0           3.045837   \n",
       "2           25.681185              0.0           3.045837   \n",
       "4            9.309541              0.0           3.045837   \n",
       "5           14.058107              0.0           3.045837   \n",
       "\n",
       "   Binding Site Residence Time  Binding Site R Squared  Binding Site Duration  \\\n",
       "0                     0.328317                0.999281               0.087488   \n",
       "1                     0.328317                0.999281               0.087488   \n",
       "2                     0.328317                0.999281               0.087488   \n",
       "4                     0.328317                0.999281               0.087488   \n",
       "5                     0.328317                0.999281               0.087488   \n",
       "\n",
       "   Binding Site Occupancy  Binding Site Lipid Count  \n",
       "0               99.601594                     3.098  \n",
       "1               99.601594                     3.098  \n",
       "2               99.601594                     3.098  \n",
       "4               99.601594                     3.098  \n",
       "5               99.601594                     3.098  "
      ]
     },
     "execution_count": 16,
     "metadata": {},
     "output_type": "execute_result"
    }
   ],
   "source": [
    "df.head()"
   ]
  },
  {
   "cell_type": "markdown",
   "id": "durable-values",
   "metadata": {},
   "source": [
    "## Analyze bound poses\n",
    "\n",
    "Once the binding sites are defined, we can also proceed to analyze bound poses, e.g. check the most representative bound poses for binding sites and check bound pose clusters for binding sites etc. "
   ]
  },
  {
   "cell_type": "code",
   "execution_count": 17,
   "id": "silver-discipline",
   "metadata": {},
   "outputs": [
    {
     "name": "stderr",
     "output_type": "stream",
     "text": [
      "ANALYZE BOUND POSES: 100%|██████████| 10/10 [00:11<00:00,  1.11s/it]\n"
     ]
    }
   ],
   "source": [
    "pose_pool, pose_rmsd = li.analyze_bound_poses()"
   ]
  },
  {
   "cell_type": "markdown",
   "id": "therapeutic-width",
   "metadata": {},
   "source": [
    "`analyze_bound_poses()` will rate the bound poses for each binding site based on probability density calculated from the simulation trajectories and write out a couple of top rated poses (controled by `n_poses`). It will also cluster the bound poses for each binding site, for which the number of clusters can be determined by a density based cluster `DBSCAN` or provided via `n_clusters`. The lipid bound poses for each binding site will be returned. The RMSD of bound poses to the binding site average will be returned and plotted in a violin plot. \n",
    "\n",
    "<img src=\"statics/Pose_RMSD_violinplot.png\" />"
   ]
  },
  {
   "cell_type": "markdown",
   "id": "rental-contrast",
   "metadata": {},
   "source": [
    "Similar to other analysis functions, `analyze_bound_poses` can also select a couple of binding sites for analysis via `binding_site_id`. \n",
    "\n",
    "The returned pose_pool is a `dict` object that stores bound poses for binding sites. psoe_rmsd is a pandas.DataFrame that stores RMSD for the bound poses (in unit of nm)."
   ]
  },
  {
   "cell_type": "code",
   "execution_count": 18,
   "id": "persistent-atlanta",
   "metadata": {},
   "outputs": [
    {
     "data": {
      "text/html": [
       "<div>\n",
       "<style scoped>\n",
       "    .dataframe tbody tr th:only-of-type {\n",
       "        vertical-align: middle;\n",
       "    }\n",
       "\n",
       "    .dataframe tbody tr th {\n",
       "        vertical-align: top;\n",
       "    }\n",
       "\n",
       "    .dataframe thead th {\n",
       "        text-align: right;\n",
       "    }\n",
       "</style>\n",
       "<table border=\"1\" class=\"dataframe\">\n",
       "  <thead>\n",
       "    <tr style=\"text-align: right;\">\n",
       "      <th></th>\n",
       "      <th>Binding Site 0</th>\n",
       "      <th>Binding Site 1</th>\n",
       "      <th>Binding Site 2</th>\n",
       "      <th>Binding Site 3</th>\n",
       "      <th>Binding Site 4</th>\n",
       "      <th>Binding Site 5</th>\n",
       "      <th>Binding Site 6</th>\n",
       "      <th>Binding Site 7</th>\n",
       "      <th>Binding Site 8</th>\n",
       "      <th>Binding Site 9</th>\n",
       "    </tr>\n",
       "  </thead>\n",
       "  <tbody>\n",
       "    <tr>\n",
       "      <th>0</th>\n",
       "      <td>0.423603</td>\n",
       "      <td>0.453347</td>\n",
       "      <td>0.373516</td>\n",
       "      <td>0.626963</td>\n",
       "      <td>0.465590</td>\n",
       "      <td>0.293760</td>\n",
       "      <td>0.163058</td>\n",
       "      <td>0.478815</td>\n",
       "      <td>0.437988</td>\n",
       "      <td>0.407428</td>\n",
       "    </tr>\n",
       "    <tr>\n",
       "      <th>1</th>\n",
       "      <td>0.953012</td>\n",
       "      <td>0.508066</td>\n",
       "      <td>0.717344</td>\n",
       "      <td>0.492311</td>\n",
       "      <td>0.532772</td>\n",
       "      <td>0.542467</td>\n",
       "      <td>0.177871</td>\n",
       "      <td>0.523724</td>\n",
       "      <td>0.501309</td>\n",
       "      <td>0.522759</td>\n",
       "    </tr>\n",
       "    <tr>\n",
       "      <th>2</th>\n",
       "      <td>0.372235</td>\n",
       "      <td>0.559859</td>\n",
       "      <td>0.344610</td>\n",
       "      <td>0.357748</td>\n",
       "      <td>0.797744</td>\n",
       "      <td>0.393510</td>\n",
       "      <td>0.202087</td>\n",
       "      <td>0.701567</td>\n",
       "      <td>0.760275</td>\n",
       "      <td>0.712557</td>\n",
       "    </tr>\n",
       "    <tr>\n",
       "      <th>3</th>\n",
       "      <td>0.399955</td>\n",
       "      <td>0.505883</td>\n",
       "      <td>0.894511</td>\n",
       "      <td>0.648025</td>\n",
       "      <td>0.587807</td>\n",
       "      <td>0.231317</td>\n",
       "      <td>0.132604</td>\n",
       "      <td>0.375940</td>\n",
       "      <td>0.440442</td>\n",
       "      <td>0.728238</td>\n",
       "    </tr>\n",
       "    <tr>\n",
       "      <th>4</th>\n",
       "      <td>0.410028</td>\n",
       "      <td>0.421467</td>\n",
       "      <td>0.260160</td>\n",
       "      <td>0.503571</td>\n",
       "      <td>0.542116</td>\n",
       "      <td>0.509176</td>\n",
       "      <td>0.249426</td>\n",
       "      <td>0.463891</td>\n",
       "      <td>0.437455</td>\n",
       "      <td>0.362353</td>\n",
       "    </tr>\n",
       "  </tbody>\n",
       "</table>\n",
       "</div>"
      ],
      "text/plain": [
       "   Binding Site 0  Binding Site 1  Binding Site 2  Binding Site 3  \\\n",
       "0        0.423603        0.453347        0.373516        0.626963   \n",
       "1        0.953012        0.508066        0.717344        0.492311   \n",
       "2        0.372235        0.559859        0.344610        0.357748   \n",
       "3        0.399955        0.505883        0.894511        0.648025   \n",
       "4        0.410028        0.421467        0.260160        0.503571   \n",
       "\n",
       "   Binding Site 4  Binding Site 5  Binding Site 6  Binding Site 7  \\\n",
       "0        0.465590        0.293760        0.163058        0.478815   \n",
       "1        0.532772        0.542467        0.177871        0.523724   \n",
       "2        0.797744        0.393510        0.202087        0.701567   \n",
       "3        0.587807        0.231317        0.132604        0.375940   \n",
       "4        0.542116        0.509176        0.249426        0.463891   \n",
       "\n",
       "   Binding Site 8  Binding Site 9  \n",
       "0        0.437988        0.407428  \n",
       "1        0.501309        0.522759  \n",
       "2        0.760275        0.712557  \n",
       "3        0.440442        0.728238  \n",
       "4        0.437455        0.362353  "
      ]
     },
     "execution_count": 18,
     "metadata": {},
     "output_type": "execute_result"
    }
   ],
   "source": [
    "pose_rmsd.head()"
   ]
  },
  {
   "cell_type": "markdown",
   "id": "cardiovascular-investigator",
   "metadata": {},
   "source": [
    "## Calculate surface area\n",
    "\n",
    "We can also calculate the surface area for binding site, obtaining the values as a function of time. "
   ]
  },
  {
   "cell_type": "code",
   "execution_count": 19,
   "id": "ongoing-fence",
   "metadata": {},
   "outputs": [
    {
     "name": "stderr",
     "output_type": "stream",
     "text": [
      "CALCULATE SURFACE AREA PER TRAJ: 100%|██████████| 2/2 [00:19<00:00,  9.77s/it]\n"
     ]
    }
   ],
   "source": [
    "surface_area = li.compute_surface_area(plot_data=True)"
   ]
  },
  {
   "cell_type": "markdown",
   "id": "recent-arrest",
   "metadata": {},
   "source": [
    "The returned `surface_area` is pandas.DataFrame object that stores the time evolution of the surface area for each binding site. The reported values are in the unit of nm^2."
   ]
  },
  {
   "cell_type": "code",
   "execution_count": 20,
   "id": "monthly-stand",
   "metadata": {},
   "outputs": [
    {
     "data": {
      "text/html": [
       "<div>\n",
       "<style scoped>\n",
       "    .dataframe tbody tr th:only-of-type {\n",
       "        vertical-align: middle;\n",
       "    }\n",
       "\n",
       "    .dataframe tbody tr th {\n",
       "        vertical-align: top;\n",
       "    }\n",
       "\n",
       "    .dataframe thead th {\n",
       "        text-align: right;\n",
       "    }\n",
       "</style>\n",
       "<table border=\"1\" class=\"dataframe\">\n",
       "  <thead>\n",
       "    <tr style=\"text-align: right;\">\n",
       "      <th></th>\n",
       "      <th></th>\n",
       "      <th></th>\n",
       "      <th>Binding Site 0</th>\n",
       "      <th>Binding Site 1</th>\n",
       "      <th>Binding Site 2</th>\n",
       "      <th>Binding Site 3</th>\n",
       "      <th>Binding Site 4</th>\n",
       "      <th>Binding Site 5</th>\n",
       "      <th>Binding Site 6</th>\n",
       "      <th>Binding Site 7</th>\n",
       "      <th>Binding Site 8</th>\n",
       "      <th>Binding Site 9</th>\n",
       "      <th>Time</th>\n",
       "    </tr>\n",
       "  </thead>\n",
       "  <tbody>\n",
       "    <tr>\n",
       "      <th rowspan=\"5\" valign=\"top\">0</th>\n",
       "      <th rowspan=\"5\" valign=\"top\">0</th>\n",
       "      <th>0</th>\n",
       "      <td>11.121536</td>\n",
       "      <td>6.162645</td>\n",
       "      <td>13.373794</td>\n",
       "      <td>11.226026</td>\n",
       "      <td>20.109919</td>\n",
       "      <td>5.424675</td>\n",
       "      <td>5.639021</td>\n",
       "      <td>18.713718</td>\n",
       "      <td>9.377054</td>\n",
       "      <td>10.777733</td>\n",
       "      <td>3.00</td>\n",
       "    </tr>\n",
       "    <tr>\n",
       "      <th>1</th>\n",
       "      <td>10.852450</td>\n",
       "      <td>6.518453</td>\n",
       "      <td>13.187954</td>\n",
       "      <td>11.928950</td>\n",
       "      <td>20.201431</td>\n",
       "      <td>5.231493</td>\n",
       "      <td>5.839314</td>\n",
       "      <td>18.968510</td>\n",
       "      <td>10.264684</td>\n",
       "      <td>10.718760</td>\n",
       "      <td>3.02</td>\n",
       "    </tr>\n",
       "    <tr>\n",
       "      <th>2</th>\n",
       "      <td>11.168357</td>\n",
       "      <td>5.824062</td>\n",
       "      <td>13.586670</td>\n",
       "      <td>11.146304</td>\n",
       "      <td>19.739061</td>\n",
       "      <td>5.281025</td>\n",
       "      <td>6.109618</td>\n",
       "      <td>18.965055</td>\n",
       "      <td>10.388362</td>\n",
       "      <td>10.001993</td>\n",
       "      <td>3.04</td>\n",
       "    </tr>\n",
       "    <tr>\n",
       "      <th>3</th>\n",
       "      <td>11.250794</td>\n",
       "      <td>6.969460</td>\n",
       "      <td>12.726676</td>\n",
       "      <td>12.118644</td>\n",
       "      <td>20.140154</td>\n",
       "      <td>5.381027</td>\n",
       "      <td>6.064853</td>\n",
       "      <td>18.926474</td>\n",
       "      <td>9.435140</td>\n",
       "      <td>10.028803</td>\n",
       "      <td>3.06</td>\n",
       "    </tr>\n",
       "    <tr>\n",
       "      <th>4</th>\n",
       "      <td>10.486482</td>\n",
       "      <td>6.094445</td>\n",
       "      <td>13.585187</td>\n",
       "      <td>13.025974</td>\n",
       "      <td>20.513193</td>\n",
       "      <td>5.486375</td>\n",
       "      <td>5.845545</td>\n",
       "      <td>18.649933</td>\n",
       "      <td>9.907309</td>\n",
       "      <td>9.405209</td>\n",
       "      <td>3.08</td>\n",
       "    </tr>\n",
       "  </tbody>\n",
       "</table>\n",
       "</div>"
      ],
      "text/plain": [
       "       Binding Site 0  Binding Site 1  Binding Site 2  Binding Site 3  \\\n",
       "0 0 0       11.121536        6.162645       13.373794       11.226026   \n",
       "    1       10.852450        6.518453       13.187954       11.928950   \n",
       "    2       11.168357        5.824062       13.586670       11.146304   \n",
       "    3       11.250794        6.969460       12.726676       12.118644   \n",
       "    4       10.486482        6.094445       13.585187       13.025974   \n",
       "\n",
       "       Binding Site 4  Binding Site 5  Binding Site 6  Binding Site 7  \\\n",
       "0 0 0       20.109919        5.424675        5.639021       18.713718   \n",
       "    1       20.201431        5.231493        5.839314       18.968510   \n",
       "    2       19.739061        5.281025        6.109618       18.965055   \n",
       "    3       20.140154        5.381027        6.064853       18.926474   \n",
       "    4       20.513193        5.486375        5.845545       18.649933   \n",
       "\n",
       "       Binding Site 8  Binding Site 9  Time  \n",
       "0 0 0        9.377054       10.777733  3.00  \n",
       "    1       10.264684       10.718760  3.02  \n",
       "    2       10.388362       10.001993  3.04  \n",
       "    3        9.435140       10.028803  3.06  \n",
       "    4        9.907309        9.405209  3.08  "
      ]
     },
     "execution_count": 20,
     "metadata": {},
     "output_type": "execute_result"
    }
   ],
   "source": [
    "surface_area.head()"
   ]
  },
  {
   "cell_type": "markdown",
   "id": "limiting-panel",
   "metadata": {},
   "source": [
    "`print_data=True` generates a timeseries plot and a violinplot. \n",
    "\n",
    "<img src=\"statics/Surface_Area_timeseries.png\" />\n",
    "\n",
    "<img src=\"statics/Surface_Area_violinplot.png\" />"
   ]
  },
  {
   "cell_type": "markdown",
   "id": "equipped-venice",
   "metadata": {},
   "source": [
    "Similar to other binding site analysis functions, `compute_surface_area` allows for selection of binding site for calculation via `binding_site_id`.\n"
   ]
  },
  {
   "cell_type": "markdown",
   "id": "entire-biology",
   "metadata": {},
   "source": [
    "The calculation of surface area needs definition of the radii of atoms in the system. The function uses `mdtraj`'s atom radii and defines the radii of MARTINI 2 beads. New radii definition can be provided via `radii`. "
   ]
  },
  {
   "cell_type": "markdown",
   "id": "compound-break",
   "metadata": {},
   "source": [
    "## Plots and save data\n",
    "\n",
    "The `LipidInteraction` provides a couple of assisting functions to plot and save data. "
   ]
  },
  {
   "cell_type": "code",
   "execution_count": 21,
   "id": "applied-circular",
   "metadata": {},
   "outputs": [],
   "source": [
    "for item in [\"Residence Time\", \"Duration\", \"Occupancy\", \"Lipid Count\"]:\n",
    "    li.plot(item=item) # plot values as a function of time"
   ]
  },
  {
   "cell_type": "markdown",
   "id": "quiet-benefit",
   "metadata": {},
   "source": [
    "<img src=\"statics/Residence_Time.png\" />\n",
    "\n",
    "<img src=\"statics/Duration.png\" />\n",
    "\n",
    "<img src=\"statics/Occupancy.png\" />\n",
    "\n",
    "<img src=\"statics/Lipid_Count.png\" />"
   ]
  },
  {
   "cell_type": "code",
   "execution_count": 23,
   "id": "clear-december",
   "metadata": {},
   "outputs": [],
   "source": [
    "li.plot_logo(item=\"Residence Time\")"
   ]
  },
  {
   "cell_type": "markdown",
   "id": "responsible-notice",
   "metadata": {},
   "source": [
    "<img src=\"statics/Residence_Time_logo.png\" />"
   ]
  },
  {
   "cell_type": "code",
   "execution_count": 22,
   "id": "conditional-freeware",
   "metadata": {},
   "outputs": [],
   "source": [
    "li.write_site_info(sort_residue=\"Duration\") # write binding site information in a txt file\n",
    "\n",
    "li.save_data(item=\"Dataset\") # save the pandas.DataFrame object dataset in a csv file\n",
    "\n",
    "li.save_data(item=\"Duration\") # save all the interaction durations in pickle\n",
    "\n",
    "li.save_coordinate(item=\"Residence Time\") # write protein coordinate in pdb format with the b factor column\n",
    "                                          # showing 'Residence Time' values\n",
    "\n",
    "li.save_pymol_script(pdb_file=\"../../tests/data/receptor.pdb\") # write a pymol script that maps binding \n",
    "                                                               # site information to protein structure. "
   ]
  }
 ],
 "metadata": {
  "kernelspec": {
   "display_name": "Python 3",
   "language": "python",
   "name": "python3"
  },
  "language_info": {
   "codemirror_mode": {
    "name": "ipython",
    "version": 3
   },
   "file_extension": ".py",
   "mimetype": "text/x-python",
   "name": "python",
   "nbconvert_exporter": "python",
   "pygments_lexer": "ipython3",
   "version": "3.8.3"
  },
  "toc": {
   "base_numbering": 1,
   "nav_menu": {},
   "number_sections": true,
   "sideBar": true,
   "skip_h1_title": false,
   "title_cell": "Table of Contents",
   "title_sidebar": "Contents",
   "toc_cell": false,
   "toc_position": {
    "height": "calc(100% - 180px)",
    "left": "10px",
    "top": "150px",
    "width": "263px"
   },
   "toc_section_display": true,
   "toc_window_display": true
  }
 },
 "nbformat": 4,
 "nbformat_minor": 5
}
