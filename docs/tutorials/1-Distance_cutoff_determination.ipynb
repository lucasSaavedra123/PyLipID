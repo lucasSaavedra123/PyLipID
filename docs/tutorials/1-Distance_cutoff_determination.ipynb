{
 "cells": [
  {
   "cell_type": "markdown",
   "id": "photographic-electronics",
   "metadata": {},
   "source": [
    "# 1-Choose the right distance cutoffs \n",
    "\n",
    "In this notebook, we introduce the concept of dual-cutoff for, eps. coarse-grained simulations, and how to determine the two cutoff values for PyLipID. In this dual-cutoff scheme, a contact starts when any atom/bead of a molecule moves closer to the target than the lower cutoff, and ends when all of the atom/bead moves farther than the upper cutoff. The duration between the start and end points is considered as the duration of a continuous contact. \n",
    "\n",
    "PyLipID uses this dual-cutoff scheme to deal with the 'rattling in the cage' effect in coarse-grained simulations, in which the coarse-grained beads, due to the smoothened potentials, could have large jigglings around their positions. Thus the choice of the cutoff values will affect the accuracy of PyLipID calculation. \n",
    "\n",
    "We will first illustrate the 'rattling in cage' effect, then look at ways to determine the optimal dual cutoffs for a system. We will also have a brief look at how the choice of cutoff values affects binding site calculation. Finally we will test the dual-cutoff on atomistic simulations. We recommend users to test on cutoffs when applying PyLipID to a new system, esp. to different types of lipid. \n",
    "\n",
    "PyLipID also accepts using the usual single cutoff scheme. Users only need to provide a single cutoff value to shift to the single cutoff. "
   ]
  },
  {
   "cell_type": "code",
   "execution_count": 1,
   "id": "eligible-sensitivity",
   "metadata": {},
   "outputs": [],
   "source": [
    "%matplotlib inline\n",
    "import numpy as np\n",
    "import matplotlib.pyplot as plt\n",
    "import pylipid\n",
    "from pylipid.api import LipidInteraction"
   ]
  },
  {
   "cell_type": "markdown",
   "id": "theoretical-complaint",
   "metadata": {},
   "source": [
    "## The \"rattling in cage\" effect in MARTINI force field\n",
    "\n",
    "MARTINI force field often generates large jigglings of beads, with deviations from their positions as large as 0.4 nm. As these deviations would come back very quick, they should not be considered as dissociations. To check on these jigglings, we can plot the minimum distances of protein residues to their contacting lipid molecules. \n",
    "\n",
    "Here we still use the simulation trajectories of Adenosine 2a receptor (A2aR) that was used in the previous 'walk-through' tutorial. In these trajectories, a single copy of A2aR was embedded in a complex membrane containing 7 lipid species, including PC, PE, PS, PIP2, CHOL, GM3, Sph (See figure 1 in the previous tutorial). Let's use the following script to look at the minimum distances of the contacting cholesterol molecules with protein residues. "
   ]
  },
  {
   "cell_type": "code",
   "execution_count": 2,
   "id": "accredited-attachment",
   "metadata": {},
   "outputs": [],
   "source": [
    "from itertools import product\n",
    "import mdtraj as md\n",
    "from pylipid.utils import get_traj_info, check_dir\n",
    "\n",
    "def plot_minimum_distances(distances, times, title, fn):\n",
    "    fig, ax = plt.subplots(1, 1, figsize=(3, 2.5))\n",
    "    ax.plot(times, distances)\n",
    "    ax.set_xlabel(r\"Time ($\\mu$s)\")\n",
    "    ax.set_ylabel(\"Minimum distances (nm)\")\n",
    "    ax.set_title(title)\n",
    "    ax.set_ylim(0, 1.0)\n",
    "    plt.tight_layout()\n",
    "    plt.savefig(fn, dpi=200)\n",
    "    plt.close()\n",
    "    return\n",
    "\n",
    "\n",
    "def compute_contact_distance(traj, lipid, fig_dir, lipid_atoms=None, \n",
    "                            contact_frames=10, distance_threshold=0.65):\n",
    "    DIST_CONTACT_ALL = []\n",
    "    traj_info, _, _ = get_traj_info(traj, lipid, lipid_atoms=lipid_atoms)\n",
    "    for protein_idx in np.arange(nprot, dtype=int):\n",
    "        for residue_idx, residue_atom_indices in enumerate(\n",
    "            traj_info[\"protein_residue_atomid_list\"][protein_idx]):\n",
    "            dist_matrix = np.array([np.min(\n",
    "                            md.compute_distances(traj, np.array(list(product(residue_atom_indices, lipid_atom_indices)))),\n",
    "                            axis=1) for lipid_atom_indices in traj_info[\"lipid_residue_atomid_list\"]])\n",
    "            # plot distances\n",
    "            for lipid_idx in np.arange(len(dist_matrix)):\n",
    "                if sum(dist_matrix[lipid_idx] < distance_threshold) >= contact_frames:\n",
    "                    DIST_CONTACT_ALL.append(dist_matrix[lipid_idx])\n",
    "                    plot_minimum_distances(dist_matrix[lipid_idx], traj.time/1000000.0, \n",
    "                                           \"{}-{}{}\".format(traj_info[\"residue_list\"][residue_idx], lipid, lipid_idx), \n",
    "                                           \"{}/dist_{}_{}{}.png\".format(fig_dir, traj_info[\"residue_list\"][residue_idx], \n",
    "                                                                        lipid, lipid_idx))\n",
    "    \n",
    "    return DIST_CONTACT_ALL\n",
    "\n",
    "\n",
    "trajfile = \"./traj_data/A2a/run1/protein_lipids.xtc\"\n",
    "topfile = \"./traj_data/A2a/run1/protein_lipids.gro\"\n",
    "lipid = \"CHOL\"\n",
    "lipid_atoms = None # all lipid atom/bead will be considered\n",
    "nprot = 1\n",
    "save_dir = \"test_minimum_dist_A2a_{}\".format(lipid)\n",
    "fig_dir = check_dir(save_dir, \"Figures\", print_info=False)\n",
    "contact_frames = 30  # will only plot data if the contact was formed over ${contact_frames} frames.\n",
    "distance_threshold = 0.65\n",
    "\n",
    "traj = md.load(trajfile, top=topfile)\n",
    "cotanct_distance_set = compute_contact_distance(traj, lipid, fig_dir, lipid_atoms=lipid_atoms,\n",
    "                                               contact_frames=10, distance_threshold=0.65)\n"
   ]
  },
  {
   "cell_type": "markdown",
   "id": "reported-alignment",
   "metadata": {},
   "source": [
    "In this script, we plotted the minimum distances of a cholesterol molecule to a protein residue if their minimum distance stayed below 0.65nm (controled by `distance_threshold`) over 10 frames (controled by `contact_frames`). We made these two parameters of `distance_threshold` and `contact_frames` in the script to screen out the noises, otherwise it could have generate loads of figures. \n",
    "\n",
    "We can check the generated figures and find different contact activities. For example, we can find some contacts with small jigglings, in which cases the minimum distances stayed around 0.475 nm: \n",
    "\n",
    "<img src=\"statics/dist_9THR_CHOL224.png\" />\n",
    "\n",
    "and some with larger jigglings, in which cases the minimum distances can shift to 0.7-0.8 nm:\n",
    "\n",
    "<img src=\"statics/dist_10VAL_CHOL6.png\" />\n",
    "\n",
    "For some messier situations, we can find that lipids came close to the target without forming an effective contact, in which cases the minimum distances still can reach as low as 0.65-0.7 nm: \n",
    "\n",
    "<img src=\"statics/dist_27TRP_CHOL166.png\" />\n",
    "\n",
    "**Therefore, we want to use the lower cutoff of the dual-cutoff scheme to pick out the effective contacts and use the upper one to deal with the jigglings.**\n",
    "\n",
    "We can also look at the distribution of the minimum distances: "
   ]
  },
  {
   "cell_type": "code",
   "execution_count": 3,
   "id": "brilliant-paint",
   "metadata": {},
   "outputs": [
    {
     "data": {
      "image/png": "[encoded data removed]",
      "text/plain": [
       "<Figure size 432x288 with 1 Axes>"
      ]
     },
     "metadata": {
      "needs_background": "light"
     },
     "output_type": "display_data"
    }
   ],
   "source": [
    "import matplotlib.ticker as ticker\n",
    "\n",
    "def plot_PDF(distance_set, num_of_bins, fn):\n",
    "    fig, ax = plt.subplots(1,1)\n",
    "    ax.hist(distance_set, bins=num_of_bins, density=True)\n",
    "    ax.set_xlim(0, 1.0)\n",
    "    ax.set_xlabel(\"Minimum distance (nm)\")\n",
    "    ax.set_ylabel(\"Probablity Density\")\n",
    "    ax.set_title(lipid)\n",
    "    ax.xaxis.set_major_locator(ticker.MultipleLocator(0.2))\n",
    "    ax.xaxis.set_minor_locator(ticker.MultipleLocator(0.05))\n",
    "    plt.tight_layout()\n",
    "    plt.savefig(fn, dpi=200)\n",
    "    return\n",
    "\n",
    "distance_set = np.concatenate(cotanct_distance_set)\n",
    "num_of_bins = 1000\n",
    "fig_fn = \"{}/dist_distribut_{}.png\".format(save_dir, lipid)\n",
    "plot_PDF(distance_set, num_of_bins, fig_fn)"
   ]
  },
  {
   "cell_type": "markdown",
   "id": "beneficial-music",
   "metadata": {},
   "source": [
    "From this probability distribution plot, we can see that the first contact layer of cholesterol starts at ~ 0.4 nm, peaks at ~0.5 nm and ends at ~0.7 nm. \n",
    "\n",
    "Let's check the contact activities of some phospholipids. In this case, we chose to look at PIP2 molecules, the residue name of which is \"POP2\" in MARTINI force field. PIP2 lipids have been shown to bind to a couple of GPCRs and exert allosteric modulation on the receptor functions. Let's use the functions defined above to plot minimum distances of PIP2 with A2aR. Considering the lipid acyl tails are often too dynamic, we decided to only include the lipid headgroup beads for calculation, to produce better defined binding events. Thus, we provide to the `lipid_atoms` a list of atom names of PIP2 headgroup beads. "
   ]
  },
  {
   "cell_type": "code",
   "execution_count": 4,
   "id": "metric-latest",
   "metadata": {},
   "outputs": [],
   "source": [
    "trajfile = \"./traj_data/A2a/run1/protein_lipids.xtc\"\n",
    "topfile = \"./traj_data/A2a/run1/protein_lipids.gro\"\n",
    "lipid = \"POP2\" # residue name of PIP2\n",
    "lipid_atoms = [\"C1\", \"C2\", \"C3\", \"PO4\", \"P1\", \"P2\"] # PIP2 headgroup beads\n",
    "nprot = 1\n",
    "save_dir = \"test_minimum_dist_A2a_{}\".format(lipid)\n",
    "fig_dir = check_dir(save_dir, \"Figures\", print_info=False)\n",
    "contact_frames = 10  # will only plot data if the contact was formed over ${contact_frames} frames.\n",
    "distance_threshold = 0.65\n",
    "\n",
    "traj = md.load(trajfile, top=topfile)\n",
    "cotanct_distance_set = compute_contact_distance(traj, lipid, fig_dir, lipid_atoms=lipid_atoms,\n",
    "                                               contact_frames=10, distance_threshold=0.65)"
   ]
  },
  {
   "cell_type": "markdown",
   "id": "rocky-south",
   "metadata": {},
   "source": [
    "Similar to what we have seen from cholesterol bindings, we can find some interactions with small jigglings:\n",
    "\n",
    "<img src=\"statics/dist_203ARG_POP229.png\" />\n",
    "\n",
    "and some with larger jigglings: \n",
    "\n",
    "<img src=\"statics/dist_120LYS_POP211.png\" />\n",
    "\n",
    "We can even find that the bindings of PIP2 are more stable, i.e. the durations of the bindings are longer. One PIP2 molecule bound to A2aR without dissociation in the 3 micro-second simulation:\n",
    "\n",
    "<img src=\"statics/dist_197ARG_POP218.png\" />"
   ]
  },
  {
   "cell_type": "markdown",
   "id": "satisfactory-analysis",
   "metadata": {},
   "source": [
    "Let's check the distribution of PIP2 minimum distances:"
   ]
  },
  {
   "cell_type": "code",
   "execution_count": 5,
   "id": "square-print",
   "metadata": {},
   "outputs": [
    {
     "data": {
      "image/png": "[encoded data removed]",
      "text/plain": [
       "<Figure size 432x288 with 1 Axes>"
      ]
     },
     "metadata": {
      "needs_background": "light"
     },
     "output_type": "display_data"
    }
   ],
   "source": [
    "distance_set = np.concatenate(cotanct_distance_set)\n",
    "num_of_bins = 1000\n",
    "fig_fn = \"{}/dist_distribut_{}.png\".format(save_dir, lipid)\n",
    "plot_PDF(distance_set, num_of_bins, fig_fn)"
   ]
  },
  {
   "cell_type": "markdown",
   "id": "literary-cisco",
   "metadata": {},
   "source": [
    "Comparing to that of cholesterols, the distance distribution of PIP2 has a narrower first peak, which starts at ~0.425 nm and ends at ~0.675 nm. "
   ]
  },
  {
   "cell_type": "markdown",
   "id": "periodic-stream",
   "metadata": {},
   "source": [
    "## Determining the cutoff values\n",
    "\n",
    "As we have shown above, the binding activities of cholesterol and PIP2 are different, when they bind to the same receptor A2aR. The situation could be more complex if we compare the binding activities of lipids to different receptors. We therefore need to do a systematic check on the suitable cutoffs whenever we apply PyLipID to different systems and different lipids. \n",
    "\n",
    "To illustrate that the contact distances could be different with different proteins, we include testings of cutoffs on two systems: one on a Class A GPCR, A2aR and the other on the ligand-gated ion channel GABAA. Each receptor had two simulation repeats. \n",
    "\n",
    "We start by checking the impact of different cutoffs on a couple of contact metrics, including num. of binding sites, num. of contacting residues, and the average interaction durations. By plotting these metrics as a function of different cutoffs, we will try to find the cutoffs that optimize the calculation of contacts and binding sites. \n",
    "\n",
    "Let's first define a test function:"
   ]
  },
  {
   "cell_type": "code",
   "execution_count": 6,
   "id": "angry-fence",
   "metadata": {},
   "outputs": [],
   "source": [
    "from itertools import product\n",
    "import shutil\n",
    "\n",
    "def test_cutoffs(cutoff_list, trajfile_list, topfile_list, lipid, lipid_atons, nprot=1,\n",
    "                 stride=1, save_dir=None, timeunit=\"us\"):\n",
    "    num_of_binding_sites = []\n",
    "    duration_avgs = []\n",
    "    num_of_contacting_residues = []\n",
    "    for cutoffs in cutoff_list:\n",
    "        li = LipidInteraction(trajfile_list, topfile_list=topfile_list, cutoffs=cutoffs, lipid=lipid,\n",
    "                              lipid_atoms=lipid_atoms, nprot=1, timeunit=timeunit, \n",
    "                              save_dir=save_dir, stride=stride)\n",
    "        li.collect_residue_contacts(write_log=False, print_log=False)\n",
    "        li.compute_binding_nodes(print_data=False) # switch print and write to False for cleaner output.\n",
    "        num_of_binding_sites.append(len(li.node_list))\n",
    "        duration_avgs.append(li.dataset[\"Duration\"].mean())\n",
    "        num_of_contacting_residues.append(sum(li.dataset[\"Duration\"]>0))\n",
    "    shutil.rmtree(li.save_dir)\n",
    "    return num_of_binding_sites, duration_avgs, num_of_contacting_residues\n",
    "\n",
    "\n",
    "lower_cutoff = [0.375, 0.40, 0.425, 0.45, 0.475, 0.5]\n",
    "upper_cutoff = [0.55, 0.6, 0.65, 0.7, 0.75, 0.8, 0.85]\n",
    "cutoff_list = list(product(lower_cutoff, upper_cutoff))"
   ]
  },
  {
   "cell_type": "markdown",
   "id": "square-picture",
   "metadata": {},
   "source": [
    "Here, we used interaction durations instead of interaction residence time to speed up the testing. We defined a couple of lower cutoffs and upper cutoffs to test on. "
   ]
  },
  {
   "cell_type": "markdown",
   "id": "controversial-trial",
   "metadata": {},
   "source": [
    "### cholesterol interactions with A2a\n",
    "\n",
    "Let's check how cholesterol contacts and binding sites change with different cutoffs in A2a simulations:"
   ]
  },
  {
   "cell_type": "code",
   "execution_count": 7,
   "id": "colonial-atlanta",
   "metadata": {
    "scrolled": true
   },
   "outputs": [
    {
     "name": "stderr",
     "output_type": "stream",
     "text": [
      "\r",
      "COLLECT INTERACTIONS FROM TRAJECTORIES:   0%|          | 0/2 [00:00<?, ?it/s]"
     ]
    },
    {
     "name": "stdout",
     "output_type": "stream",
     "text": [
      "Creating new director: /Users/lindasong/PyLipID/PyLipID-dev/docs/tutorials/test_cutoffs_A2a/Interaction_CHOL\n"
     ]
    },
    {
     "name": "stderr",
     "output_type": "stream",
     "text": [
      "COLLECT INTERACTIONS FROM TRAJECTORIES: 100%|██████████| 2/2 [00:50<00:00, 25.39s/it]\n",
      "COLLECT INTERACTIONS FROM TRAJECTORIES:   0%|          | 0/2 [00:00<?, ?it/s]"
     ]
    },
    {
     "name": "stdout",
     "output_type": "stream",
     "text": [
      "No binding site detected!!\n"
     ]
    },
    {
     "name": "stderr",
     "output_type": "stream",
     "text": [
      "COLLECT INTERACTIONS FROM TRAJECTORIES: 100%|██████████| 2/2 [00:48<00:00, 24.38s/it]\n",
      "COLLECT INTERACTIONS FROM TRAJECTORIES:   0%|          | 0/2 [00:00<?, ?it/s]"
     ]
    },
    {
     "name": "stdout",
     "output_type": "stream",
     "text": [
      "No binding site detected!!\n"
     ]
    },
    {
     "name": "stderr",
     "output_type": "stream",
     "text": [
      "COLLECT INTERACTIONS FROM TRAJECTORIES: 100%|██████████| 2/2 [00:48<00:00, 24.08s/it]\n",
      "COLLECT INTERACTIONS FROM TRAJECTORIES:   0%|          | 0/2 [00:00<?, ?it/s]"
     ]
    },
    {
     "name": "stdout",
     "output_type": "stream",
     "text": [
      "No binding site detected!!\n"
     ]
    },
    {
     "name": "stderr",
     "output_type": "stream",
     "text": [
      "COLLECT INTERACTIONS FROM TRAJECTORIES: 100%|██████████| 2/2 [00:48<00:00, 24.00s/it]\n",
      "COLLECT INTERACTIONS FROM TRAJECTORIES:   0%|          | 0/2 [00:00<?, ?it/s]"
     ]
    },
    {
     "name": "stdout",
     "output_type": "stream",
     "text": [
      "No binding site detected!!\n"
     ]
    },
    {
     "name": "stderr",
     "output_type": "stream",
     "text": [
      "COLLECT INTERACTIONS FROM TRAJECTORIES: 100%|██████████| 2/2 [00:47<00:00, 23.55s/it]\n",
      "COLLECT INTERACTIONS FROM TRAJECTORIES:   0%|          | 0/2 [00:00<?, ?it/s]"
     ]
    },
    {
     "name": "stdout",
     "output_type": "stream",
     "text": [
      "No binding site detected!!\n"
     ]
    },
    {
     "name": "stderr",
     "output_type": "stream",
     "text": [
      "COLLECT INTERACTIONS FROM TRAJECTORIES: 100%|██████████| 2/2 [00:47<00:00, 23.58s/it]\n",
      "COLLECT INTERACTIONS FROM TRAJECTORIES:   0%|          | 0/2 [00:00<?, ?it/s]"
     ]
    },
    {
     "name": "stdout",
     "output_type": "stream",
     "text": [
      "No binding site detected!!\n"
     ]
    },
    {
     "name": "stderr",
     "output_type": "stream",
     "text": [
      "COLLECT INTERACTIONS FROM TRAJECTORIES: 100%|██████████| 2/2 [00:47<00:00, 23.59s/it]\n",
      "COLLECT INTERACTIONS FROM TRAJECTORIES:   0%|          | 0/2 [00:00<?, ?it/s]"
     ]
    },
    {
     "name": "stdout",
     "output_type": "stream",
     "text": [
      "No binding site detected!!\n"
     ]
    },
    {
     "name": "stderr",
     "output_type": "stream",
     "text": [
      "COLLECT INTERACTIONS FROM TRAJECTORIES: 100%|██████████| 2/2 [00:47<00:00, 23.51s/it]\n",
      "COLLECT INTERACTIONS FROM TRAJECTORIES:   0%|          | 0/2 [00:00<?, ?it/s]"
     ]
    },
    {
     "name": "stdout",
     "output_type": "stream",
     "text": [
      "No binding site detected!!\n"
     ]
    },
    {
     "name": "stderr",
     "output_type": "stream",
     "text": [
      "COLLECT INTERACTIONS FROM TRAJECTORIES: 100%|██████████| 2/2 [00:48<00:00, 24.44s/it]\n",
      "COLLECT INTERACTIONS FROM TRAJECTORIES:   0%|          | 0/2 [00:00<?, ?it/s]"
     ]
    },
    {
     "name": "stdout",
     "output_type": "stream",
     "text": [
      "No binding site detected!!\n"
     ]
    },
    {
     "name": "stderr",
     "output_type": "stream",
     "text": [
      "COLLECT INTERACTIONS FROM TRAJECTORIES: 100%|██████████| 2/2 [00:49<00:00, 24.92s/it]\n",
      "COLLECT INTERACTIONS FROM TRAJECTORIES:   0%|          | 0/2 [00:00<?, ?it/s]"
     ]
    },
    {
     "name": "stdout",
     "output_type": "stream",
     "text": [
      "No binding site detected!!\n"
     ]
    },
    {
     "name": "stderr",
     "output_type": "stream",
     "text": [
      "COLLECT INTERACTIONS FROM TRAJECTORIES: 100%|██████████| 2/2 [00:48<00:00, 24.04s/it]\n",
      "COLLECT INTERACTIONS FROM TRAJECTORIES:   0%|          | 0/2 [00:00<?, ?it/s]"
     ]
    },
    {
     "name": "stdout",
     "output_type": "stream",
     "text": [
      "No binding site detected!!\n"
     ]
    },
    {
     "name": "stderr",
     "output_type": "stream",
     "text": [
      "COLLECT INTERACTIONS FROM TRAJECTORIES: 100%|██████████| 2/2 [00:48<00:00, 24.49s/it]\n",
      "COLLECT INTERACTIONS FROM TRAJECTORIES:   0%|          | 0/2 [00:00<?, ?it/s]"
     ]
    },
    {
     "name": "stdout",
     "output_type": "stream",
     "text": [
      "No binding site detected!!\n"
     ]
    },
    {
     "name": "stderr",
     "output_type": "stream",
     "text": [
      "COLLECT INTERACTIONS FROM TRAJECTORIES: 100%|██████████| 2/2 [00:48<00:00, 24.05s/it]\n",
      "COLLECT INTERACTIONS FROM TRAJECTORIES:   0%|          | 0/2 [00:00<?, ?it/s]"
     ]
    },
    {
     "name": "stdout",
     "output_type": "stream",
     "text": [
      "No binding site detected!!\n"
     ]
    },
    {
     "name": "stderr",
     "output_type": "stream",
     "text": [
      "COLLECT INTERACTIONS FROM TRAJECTORIES: 100%|██████████| 2/2 [00:48<00:00, 24.36s/it]\n",
      "COLLECT INTERACTIONS FROM TRAJECTORIES:   0%|          | 0/2 [00:00<?, ?it/s]"
     ]
    },
    {
     "name": "stdout",
     "output_type": "stream",
     "text": [
      "No binding site detected!!\n"
     ]
    },
    {
     "name": "stderr",
     "output_type": "stream",
     "text": [
      "COLLECT INTERACTIONS FROM TRAJECTORIES: 100%|██████████| 2/2 [00:47<00:00, 23.57s/it]\n",
      "COLLECT INTERACTIONS FROM TRAJECTORIES:   0%|          | 0/2 [00:00<?, ?it/s]"
     ]
    },
    {
     "name": "stdout",
     "output_type": "stream",
     "text": [
      "No binding site detected!!\n"
     ]
    },
    {
     "name": "stderr",
     "output_type": "stream",
     "text": [
      "COLLECT INTERACTIONS FROM TRAJECTORIES: 100%|██████████| 2/2 [00:48<00:00, 24.02s/it]\n",
      "COLLECT INTERACTIONS FROM TRAJECTORIES:   0%|          | 0/2 [00:00<?, ?it/s]"
     ]
    },
    {
     "name": "stdout",
     "output_type": "stream",
     "text": [
      "No binding site detected!!\n"
     ]
    },
    {
     "name": "stderr",
     "output_type": "stream",
     "text": [
      "COLLECT INTERACTIONS FROM TRAJECTORIES: 100%|██████████| 2/2 [00:48<00:00, 24.42s/it]\n",
      "COLLECT INTERACTIONS FROM TRAJECTORIES:   0%|          | 0/2 [00:00<?, ?it/s]"
     ]
    },
    {
     "name": "stdout",
     "output_type": "stream",
     "text": [
      "No binding site detected!!\n"
     ]
    },
    {
     "name": "stderr",
     "output_type": "stream",
     "text": [
      "COLLECT INTERACTIONS FROM TRAJECTORIES: 100%|██████████| 2/2 [00:48<00:00, 24.29s/it]\n",
      "COLLECT INTERACTIONS FROM TRAJECTORIES:   0%|          | 0/2 [00:00<?, ?it/s]"
     ]
    },
    {
     "name": "stdout",
     "output_type": "stream",
     "text": [
      "No binding site detected!!\n"
     ]
    },
    {
     "name": "stderr",
     "output_type": "stream",
     "text": [
      "COLLECT INTERACTIONS FROM TRAJECTORIES: 100%|██████████| 2/2 [00:49<00:00, 24.82s/it]\n",
      "COLLECT INTERACTIONS FROM TRAJECTORIES:   0%|          | 0/2 [00:00<?, ?it/s]"
     ]
    },
    {
     "name": "stdout",
     "output_type": "stream",
     "text": [
      "No binding site detected!!\n"
     ]
    },
    {
     "name": "stderr",
     "output_type": "stream",
     "text": [
      "COLLECT INTERACTIONS FROM TRAJECTORIES: 100%|██████████| 2/2 [00:49<00:00, 24.71s/it]\n",
      "COLLECT INTERACTIONS FROM TRAJECTORIES:   0%|          | 0/2 [00:00<?, ?it/s]"
     ]
    },
    {
     "name": "stdout",
     "output_type": "stream",
     "text": [
      "No binding site detected!!\n"
     ]
    },
    {
     "name": "stderr",
     "output_type": "stream",
     "text": [
      "COLLECT INTERACTIONS FROM TRAJECTORIES: 100%|██████████| 2/2 [00:48<00:00, 24.23s/it]\n",
      "COLLECT INTERACTIONS FROM TRAJECTORIES:   0%|          | 0/2 [00:00<?, ?it/s]"
     ]
    },
    {
     "name": "stdout",
     "output_type": "stream",
     "text": [
      "No binding site detected!!\n"
     ]
    },
    {
     "name": "stderr",
     "output_type": "stream",
     "text": [
      "COLLECT INTERACTIONS FROM TRAJECTORIES: 100%|██████████| 2/2 [00:49<00:00, 24.81s/it]\n",
      "COLLECT INTERACTIONS FROM TRAJECTORIES: 100%|██████████| 2/2 [00:48<00:00, 24.14s/it]\n",
      "COLLECT INTERACTIONS FROM TRAJECTORIES: 100%|██████████| 2/2 [00:47<00:00, 23.99s/it]\n",
      "COLLECT INTERACTIONS FROM TRAJECTORIES: 100%|██████████| 2/2 [00:48<00:00, 24.31s/it]\n",
      "COLLECT INTERACTIONS FROM TRAJECTORIES: 100%|██████████| 2/2 [00:49<00:00, 24.97s/it]\n",
      "COLLECT INTERACTIONS FROM TRAJECTORIES: 100%|██████████| 2/2 [00:48<00:00, 24.22s/it]\n",
      "COLLECT INTERACTIONS FROM TRAJECTORIES: 100%|██████████| 2/2 [00:48<00:00, 24.12s/it]\n",
      "COLLECT INTERACTIONS FROM TRAJECTORIES: 100%|██████████| 2/2 [00:48<00:00, 24.28s/it]\n",
      "COLLECT INTERACTIONS FROM TRAJECTORIES: 100%|██████████| 2/2 [00:48<00:00, 24.23s/it]\n",
      "COLLECT INTERACTIONS FROM TRAJECTORIES: 100%|██████████| 2/2 [00:49<00:00, 24.87s/it]\n",
      "COLLECT INTERACTIONS FROM TRAJECTORIES: 100%|██████████| 2/2 [00:48<00:00, 24.48s/it]\n",
      "COLLECT INTERACTIONS FROM TRAJECTORIES: 100%|██████████| 2/2 [00:48<00:00, 24.46s/it]\n",
      "COLLECT INTERACTIONS FROM TRAJECTORIES: 100%|██████████| 2/2 [00:50<00:00, 25.49s/it]\n",
      "COLLECT INTERACTIONS FROM TRAJECTORIES: 100%|██████████| 2/2 [00:48<00:00, 24.44s/it]\n",
      "COLLECT INTERACTIONS FROM TRAJECTORIES: 100%|██████████| 2/2 [00:48<00:00, 24.09s/it]\n",
      "COLLECT INTERACTIONS FROM TRAJECTORIES: 100%|██████████| 2/2 [00:48<00:00, 24.32s/it]\n",
      "COLLECT INTERACTIONS FROM TRAJECTORIES: 100%|██████████| 2/2 [00:48<00:00, 24.26s/it]\n",
      "COLLECT INTERACTIONS FROM TRAJECTORIES: 100%|██████████| 2/2 [00:49<00:00, 24.72s/it]\n",
      "COLLECT INTERACTIONS FROM TRAJECTORIES: 100%|██████████| 2/2 [00:48<00:00, 24.34s/it]\n",
      "COLLECT INTERACTIONS FROM TRAJECTORIES: 100%|██████████| 2/2 [00:49<00:00, 24.62s/it]\n",
      "COLLECT INTERACTIONS FROM TRAJECTORIES: 100%|██████████| 2/2 [00:50<00:00, 25.05s/it]\n"
     ]
    }
   ],
   "source": [
    "import pickle\n",
    "\n",
    "stride = 1   # use this to speed up if you have too many frames.\n",
    "lipid = \"CHOL\"\n",
    "lipid_atoms = None\n",
    "nprot = 1\n",
    "timeunit = \"us\"\n",
    "\n",
    "# A2aR simulations\n",
    "save_dir = check_dir(suffix=\"test_cutoffs_A2a\", print_info=False)\n",
    "\n",
    "trajfile_list = [\"./traj_data/A2a/run1/protein_lipids.xtc\", \n",
    "                 \"./traj_data/A2a/run2/protein_lipids.xtc\"]\n",
    "topfile_list = [\"./traj_data/A2a/run1/protein_lipids.gro\", \n",
    "                 \"./traj_data/A2a/run2/protein_lipids.gro\"]\n",
    "num_of_binding_sites, duration_avgs, num_of_contacting_residues = test_cutoffs(\n",
    "                                 cutoff_list, trajfile_list, topfile_list, lipid, lipid_atoms, \n",
    "                                 nprot=nprot, stride=stride, save_dir=save_dir, timeunit=timeunit)\n",
    "\n",
    "\n",
    "test_data = {\"num_of_binding_sites\": num_of_binding_sites,\n",
    "             \"duration_avgs\": duration_avgs,\n",
    "             \"num_of_contacting_residues\": num_of_contacting_residues,\n",
    "             \"test_cutoff_list\": cutoff_list}\n",
    "\n",
    "with open(f\"{save_dir}/test_cutoff_data_{lipid}.pickle\", \"wb\") as f:\n",
    "    pickle.dump(test_data, f, 2)\n"
   ]
  },
  {
   "cell_type": "markdown",
   "id": "accessible-animal",
   "metadata": {},
   "source": [
    "Let's use the following function to plot the contact metrics as a function of the cutoff values:"
   ]
  },
  {
   "cell_type": "code",
   "execution_count": 8,
   "id": "controlling-crown",
   "metadata": {},
   "outputs": [
    {
     "data": {
      "image/png": "[encoded data removed]",
      "text/plain": [
       "<Figure size 1270.08x259.2 with 1 Axes>"
      ]
     },
     "metadata": {
      "needs_background": "light"
     },
     "output_type": "display_data"
    },
    {
     "data": {
      "image/png": "[encoded data removed]",
      "text/plain": [
       "<Figure size 1270.08x259.2 with 1 Axes>"
      ]
     },
     "metadata": {
      "needs_background": "light"
     },
     "output_type": "display_data"
    },
    {
     "data": {
      "image/png": "[encoded data removed]",
      "text/plain": [
       "<Figure size 1270.08x259.2 with 1 Axes>"
      ]
     },
     "metadata": {
      "needs_background": "light"
     },
     "output_type": "display_data"
    }
   ],
   "source": [
    "def graph(cutoff_list, metric_values, ylabel, title, fn):\n",
    "    fig, ax = plt.subplots(1, 1, figsize=(len(cutoff_list)*0.42, 3.6))\n",
    "    ax.scatter(np.arange(len(cutoff_list)), metric_values, s=50, color='red')\n",
    "    ax.set_xticks(np.arange(len(cutoff_list)))\n",
    "    ax.set_xticklabels(cutoff_list, rotation=45, ha='right')\n",
    "    ax.set_xlabel(\"Dual cutoff\")\n",
    "    ax.set_ylabel(ylabel)\n",
    "    ax.set_title(title)\n",
    "    plt.tight_layout()\n",
    "    plt.savefig(fn, dpi=200)\n",
    "    return\n",
    "\n",
    "graph(cutoff_list, num_of_binding_sites, \"num. of binding sites\", lipid, \n",
    "     f\"{save_dir}/test_cutoff_num_of_bs_{lipid}.png\")\n",
    "\n",
    "graph(cutoff_list, duration_avgs, f\"Durations ({timeunit})\", lipid, \n",
    "     f\"{save_dir}/test_cutoff_durations_{lipid}.png\")\n",
    "\n",
    "graph(cutoff_list, num_of_contacting_residues, \"num. of contacting residues\", lipid,\n",
    "     f\"{save_dir}/test_cutoff_num_of_contacting_residues_{lipid}.png\")"
   ]
  },
  {
   "cell_type": "markdown",
   "id": "inclusive-president",
   "metadata": {},
   "source": [
    "In the plot of durations and num. of contacting residues, we can see that contacts started to emerge with at the lower cutoff of 0.425 nm but saw a prominent jump at 0.45 nm of the lower cutoff, suggesting that effect contacts start at 0.45 nm. This also agrees with the distribution of the minimum distances which starts 0.4 nm. \n",
    "\n",
    "With the same lower cutoff, we saw a positive correlation of the larger upper cutoff and the longer interaction durations. This correlation was almost linear when the upper cutoff is smaller than 0.65 nm, but flattened out after 0.65 nm, suggesting that the impact of increasing the upper cutoff on interaction durations is marginal after this point. Further increase the lower cutoff (data not shown in this test) will see a decrease of interaction durations, regardless of the upper cutoffs, suggesting that too big a lower cutoff will include unnecessary noises which could lead to inaccurate results. \n",
    "\n",
    "The impact on binding site calculation was a bit more complex. No effective binding site was detected for lower cutoffs smaller than 0.45 nm, even though some contacts started to emerge at the lower cutoff of 0.425 nm. When the lower cutoff is at 0.45 nm, the binding site calculation was very unstable. The number of detected binding sites flickered with increasing upper cutoffs, suggesting that these dual-cutoffs cannot effectively differentiate binding and unbinding events. The num. of binding sites flattened at the dual cutoff of 0.475-0.7 nm, indicating that this is a good cutoff to effectively separate binding/unbinding activities. "
   ]
  },
  {
   "cell_type": "markdown",
   "id": "cheap-learning",
   "metadata": {},
   "source": [
    "### PIP2 interactions with A2a\n",
    "\n",
    "As we have shown above that PIP2 and cholesterols have interaction dynamics with A2a receptor, let's see if interaction metrics would responded differently to the change of cutoffs than those of cholesterols. "
   ]
  },
  {
   "cell_type": "code",
   "execution_count": 9,
   "id": "upper-reputation",
   "metadata": {},
   "outputs": [
    {
     "name": "stderr",
     "output_type": "stream",
     "text": [
      "\r",
      "COLLECT INTERACTIONS FROM TRAJECTORIES:   0%|          | 0/2 [00:00<?, ?it/s]"
     ]
    },
    {
     "name": "stdout",
     "output_type": "stream",
     "text": [
      "Creating new director: /Users/lindasong/PyLipID/PyLipID-dev/docs/tutorials/test_cutoffs_A2a/Interaction_POP2\n"
     ]
    },
    {
     "name": "stderr",
     "output_type": "stream",
     "text": [
      "COLLECT INTERACTIONS FROM TRAJECTORIES: 100%|██████████| 2/2 [00:11<00:00,  5.59s/it]\n",
      "COLLECT INTERACTIONS FROM TRAJECTORIES:   0%|          | 0/2 [00:00<?, ?it/s]"
     ]
    },
    {
     "name": "stdout",
     "output_type": "stream",
     "text": [
      "No binding site detected!!\n"
     ]
    },
    {
     "name": "stderr",
     "output_type": "stream",
     "text": [
      "COLLECT INTERACTIONS FROM TRAJECTORIES: 100%|██████████| 2/2 [00:11<00:00,  5.65s/it]\n",
      "COLLECT INTERACTIONS FROM TRAJECTORIES:   0%|          | 0/2 [00:00<?, ?it/s]"
     ]
    },
    {
     "name": "stdout",
     "output_type": "stream",
     "text": [
      "No binding site detected!!\n"
     ]
    },
    {
     "name": "stderr",
     "output_type": "stream",
     "text": [
      "COLLECT INTERACTIONS FROM TRAJECTORIES: 100%|██████████| 2/2 [00:11<00:00,  5.52s/it]\n",
      "COLLECT INTERACTIONS FROM TRAJECTORIES:   0%|          | 0/2 [00:00<?, ?it/s]"
     ]
    },
    {
     "name": "stdout",
     "output_type": "stream",
     "text": [
      "No binding site detected!!\n"
     ]
    },
    {
     "name": "stderr",
     "output_type": "stream",
     "text": [
      "COLLECT INTERACTIONS FROM TRAJECTORIES: 100%|██████████| 2/2 [00:11<00:00,  5.58s/it]\n",
      "COLLECT INTERACTIONS FROM TRAJECTORIES:   0%|          | 0/2 [00:00<?, ?it/s]"
     ]
    },
    {
     "name": "stdout",
     "output_type": "stream",
     "text": [
      "No binding site detected!!\n"
     ]
    },
    {
     "name": "stderr",
     "output_type": "stream",
     "text": [
      "COLLECT INTERACTIONS FROM TRAJECTORIES: 100%|██████████| 2/2 [00:11<00:00,  5.78s/it]\n",
      "COLLECT INTERACTIONS FROM TRAJECTORIES:   0%|          | 0/2 [00:00<?, ?it/s]"
     ]
    },
    {
     "name": "stdout",
     "output_type": "stream",
     "text": [
      "No binding site detected!!\n"
     ]
    },
    {
     "name": "stderr",
     "output_type": "stream",
     "text": [
      "COLLECT INTERACTIONS FROM TRAJECTORIES: 100%|██████████| 2/2 [00:11<00:00,  5.69s/it]\n",
      "COLLECT INTERACTIONS FROM TRAJECTORIES:   0%|          | 0/2 [00:00<?, ?it/s]"
     ]
    },
    {
     "name": "stdout",
     "output_type": "stream",
     "text": [
      "No binding site detected!!\n"
     ]
    },
    {
     "name": "stderr",
     "output_type": "stream",
     "text": [
      "COLLECT INTERACTIONS FROM TRAJECTORIES: 100%|██████████| 2/2 [00:11<00:00,  5.77s/it]\n",
      "COLLECT INTERACTIONS FROM TRAJECTORIES:   0%|          | 0/2 [00:00<?, ?it/s]"
     ]
    },
    {
     "name": "stdout",
     "output_type": "stream",
     "text": [
      "No binding site detected!!\n"
     ]
    },
    {
     "name": "stderr",
     "output_type": "stream",
     "text": [
      "COLLECT INTERACTIONS FROM TRAJECTORIES: 100%|██████████| 2/2 [00:11<00:00,  5.84s/it]\n",
      "COLLECT INTERACTIONS FROM TRAJECTORIES:   0%|          | 0/2 [00:00<?, ?it/s]"
     ]
    },
    {
     "name": "stdout",
     "output_type": "stream",
     "text": [
      "No binding site detected!!\n"
     ]
    },
    {
     "name": "stderr",
     "output_type": "stream",
     "text": [
      "COLLECT INTERACTIONS FROM TRAJECTORIES: 100%|██████████| 2/2 [00:11<00:00,  5.64s/it]\n",
      "COLLECT INTERACTIONS FROM TRAJECTORIES:   0%|          | 0/2 [00:00<?, ?it/s]"
     ]
    },
    {
     "name": "stdout",
     "output_type": "stream",
     "text": [
      "No binding site detected!!\n"
     ]
    },
    {
     "name": "stderr",
     "output_type": "stream",
     "text": [
      "COLLECT INTERACTIONS FROM TRAJECTORIES: 100%|██████████| 2/2 [00:11<00:00,  5.55s/it]\n",
      "COLLECT INTERACTIONS FROM TRAJECTORIES:   0%|          | 0/2 [00:00<?, ?it/s]"
     ]
    },
    {
     "name": "stdout",
     "output_type": "stream",
     "text": [
      "No binding site detected!!\n"
     ]
    },
    {
     "name": "stderr",
     "output_type": "stream",
     "text": [
      "COLLECT INTERACTIONS FROM TRAJECTORIES: 100%|██████████| 2/2 [00:11<00:00,  5.55s/it]\n",
      "COLLECT INTERACTIONS FROM TRAJECTORIES:   0%|          | 0/2 [00:00<?, ?it/s]"
     ]
    },
    {
     "name": "stdout",
     "output_type": "stream",
     "text": [
      "No binding site detected!!\n"
     ]
    },
    {
     "name": "stderr",
     "output_type": "stream",
     "text": [
      "COLLECT INTERACTIONS FROM TRAJECTORIES: 100%|██████████| 2/2 [00:11<00:00,  5.56s/it]\n",
      "COLLECT INTERACTIONS FROM TRAJECTORIES:   0%|          | 0/2 [00:00<?, ?it/s]"
     ]
    },
    {
     "name": "stdout",
     "output_type": "stream",
     "text": [
      "No binding site detected!!\n"
     ]
    },
    {
     "name": "stderr",
     "output_type": "stream",
     "text": [
      "COLLECT INTERACTIONS FROM TRAJECTORIES: 100%|██████████| 2/2 [00:11<00:00,  5.61s/it]\n",
      "COLLECT INTERACTIONS FROM TRAJECTORIES:   0%|          | 0/2 [00:00<?, ?it/s]"
     ]
    },
    {
     "name": "stdout",
     "output_type": "stream",
     "text": [
      "No binding site detected!!\n"
     ]
    },
    {
     "name": "stderr",
     "output_type": "stream",
     "text": [
      "COLLECT INTERACTIONS FROM TRAJECTORIES: 100%|██████████| 2/2 [00:11<00:00,  5.55s/it]\n",
      "COLLECT INTERACTIONS FROM TRAJECTORIES:   0%|          | 0/2 [00:00<?, ?it/s]"
     ]
    },
    {
     "name": "stdout",
     "output_type": "stream",
     "text": [
      "No binding site detected!!\n"
     ]
    },
    {
     "name": "stderr",
     "output_type": "stream",
     "text": [
      "COLLECT INTERACTIONS FROM TRAJECTORIES: 100%|██████████| 2/2 [00:11<00:00,  5.62s/it]\n",
      "COLLECT INTERACTIONS FROM TRAJECTORIES:   0%|          | 0/2 [00:00<?, ?it/s]"
     ]
    },
    {
     "name": "stdout",
     "output_type": "stream",
     "text": [
      "No binding site detected!!\n"
     ]
    },
    {
     "name": "stderr",
     "output_type": "stream",
     "text": [
      "COLLECT INTERACTIONS FROM TRAJECTORIES: 100%|██████████| 2/2 [00:11<00:00,  5.57s/it]\n",
      "COLLECT INTERACTIONS FROM TRAJECTORIES:   0%|          | 0/2 [00:00<?, ?it/s]"
     ]
    },
    {
     "name": "stdout",
     "output_type": "stream",
     "text": [
      "No binding site detected!!\n"
     ]
    },
    {
     "name": "stderr",
     "output_type": "stream",
     "text": [
      "COLLECT INTERACTIONS FROM TRAJECTORIES: 100%|██████████| 2/2 [00:11<00:00,  5.68s/it]\n",
      "COLLECT INTERACTIONS FROM TRAJECTORIES:   0%|          | 0/2 [00:00<?, ?it/s]"
     ]
    },
    {
     "name": "stdout",
     "output_type": "stream",
     "text": [
      "No binding site detected!!\n"
     ]
    },
    {
     "name": "stderr",
     "output_type": "stream",
     "text": [
      "COLLECT INTERACTIONS FROM TRAJECTORIES: 100%|██████████| 2/2 [00:11<00:00,  5.51s/it]\n",
      "COLLECT INTERACTIONS FROM TRAJECTORIES:   0%|          | 0/2 [00:00<?, ?it/s]"
     ]
    },
    {
     "name": "stdout",
     "output_type": "stream",
     "text": [
      "No binding site detected!!\n"
     ]
    },
    {
     "name": "stderr",
     "output_type": "stream",
     "text": [
      "COLLECT INTERACTIONS FROM TRAJECTORIES: 100%|██████████| 2/2 [00:11<00:00,  5.60s/it]\n",
      "COLLECT INTERACTIONS FROM TRAJECTORIES:   0%|          | 0/2 [00:00<?, ?it/s]"
     ]
    },
    {
     "name": "stdout",
     "output_type": "stream",
     "text": [
      "No binding site detected!!\n"
     ]
    },
    {
     "name": "stderr",
     "output_type": "stream",
     "text": [
      "COLLECT INTERACTIONS FROM TRAJECTORIES: 100%|██████████| 2/2 [00:11<00:00,  5.89s/it]\n",
      "COLLECT INTERACTIONS FROM TRAJECTORIES:   0%|          | 0/2 [00:00<?, ?it/s]"
     ]
    },
    {
     "name": "stdout",
     "output_type": "stream",
     "text": [
      "No binding site detected!!\n"
     ]
    },
    {
     "name": "stderr",
     "output_type": "stream",
     "text": [
      "COLLECT INTERACTIONS FROM TRAJECTORIES: 100%|██████████| 2/2 [00:11<00:00,  5.82s/it]\n",
      "COLLECT INTERACTIONS FROM TRAJECTORIES:   0%|          | 0/2 [00:00<?, ?it/s]"
     ]
    },
    {
     "name": "stdout",
     "output_type": "stream",
     "text": [
      "No binding site detected!!\n"
     ]
    },
    {
     "name": "stderr",
     "output_type": "stream",
     "text": [
      "COLLECT INTERACTIONS FROM TRAJECTORIES: 100%|██████████| 2/2 [00:11<00:00,  5.72s/it]\n",
      "COLLECT INTERACTIONS FROM TRAJECTORIES:   0%|          | 0/2 [00:00<?, ?it/s]"
     ]
    },
    {
     "name": "stdout",
     "output_type": "stream",
     "text": [
      "No binding site detected!!\n"
     ]
    },
    {
     "name": "stderr",
     "output_type": "stream",
     "text": [
      "COLLECT INTERACTIONS FROM TRAJECTORIES: 100%|██████████| 2/2 [00:11<00:00,  5.71s/it]\n",
      "COLLECT INTERACTIONS FROM TRAJECTORIES:   0%|          | 0/2 [00:00<?, ?it/s]"
     ]
    },
    {
     "name": "stdout",
     "output_type": "stream",
     "text": [
      "No binding site detected!!\n"
     ]
    },
    {
     "name": "stderr",
     "output_type": "stream",
     "text": [
      "COLLECT INTERACTIONS FROM TRAJECTORIES: 100%|██████████| 2/2 [00:11<00:00,  5.79s/it]\n",
      "COLLECT INTERACTIONS FROM TRAJECTORIES:   0%|          | 0/2 [00:00<?, ?it/s]"
     ]
    },
    {
     "name": "stdout",
     "output_type": "stream",
     "text": [
      "No binding site detected!!\n"
     ]
    },
    {
     "name": "stderr",
     "output_type": "stream",
     "text": [
      "COLLECT INTERACTIONS FROM TRAJECTORIES: 100%|██████████| 2/2 [00:11<00:00,  5.74s/it]\n",
      "COLLECT INTERACTIONS FROM TRAJECTORIES:   0%|          | 0/2 [00:00<?, ?it/s]"
     ]
    },
    {
     "name": "stdout",
     "output_type": "stream",
     "text": [
      "No binding site detected!!\n"
     ]
    },
    {
     "name": "stderr",
     "output_type": "stream",
     "text": [
      "COLLECT INTERACTIONS FROM TRAJECTORIES: 100%|██████████| 2/2 [00:11<00:00,  5.58s/it]\n",
      "COLLECT INTERACTIONS FROM TRAJECTORIES:   0%|          | 0/2 [00:00<?, ?it/s]"
     ]
    },
    {
     "name": "stdout",
     "output_type": "stream",
     "text": [
      "No binding site detected!!\n"
     ]
    },
    {
     "name": "stderr",
     "output_type": "stream",
     "text": [
      "COLLECT INTERACTIONS FROM TRAJECTORIES: 100%|██████████| 2/2 [00:11<00:00,  5.78s/it]\n",
      "COLLECT INTERACTIONS FROM TRAJECTORIES:   0%|          | 0/2 [00:00<?, ?it/s]"
     ]
    },
    {
     "name": "stdout",
     "output_type": "stream",
     "text": [
      "No binding site detected!!\n"
     ]
    },
    {
     "name": "stderr",
     "output_type": "stream",
     "text": [
      "COLLECT INTERACTIONS FROM TRAJECTORIES: 100%|██████████| 2/2 [00:11<00:00,  5.72s/it]\n",
      "COLLECT INTERACTIONS FROM TRAJECTORIES:   0%|          | 0/2 [00:00<?, ?it/s]"
     ]
    },
    {
     "name": "stdout",
     "output_type": "stream",
     "text": [
      "No binding site detected!!\n"
     ]
    },
    {
     "name": "stderr",
     "output_type": "stream",
     "text": [
      "COLLECT INTERACTIONS FROM TRAJECTORIES: 100%|██████████| 2/2 [00:11<00:00,  5.74s/it]\n",
      "COLLECT INTERACTIONS FROM TRAJECTORIES: 100%|██████████| 2/2 [00:11<00:00,  5.73s/it]\n",
      "COLLECT INTERACTIONS FROM TRAJECTORIES: 100%|██████████| 2/2 [00:11<00:00,  5.78s/it]\n",
      "COLLECT INTERACTIONS FROM TRAJECTORIES: 100%|██████████| 2/2 [00:11<00:00,  5.70s/it]\n",
      "COLLECT INTERACTIONS FROM TRAJECTORIES: 100%|██████████| 2/2 [00:11<00:00,  5.78s/it]\n",
      "COLLECT INTERACTIONS FROM TRAJECTORIES: 100%|██████████| 2/2 [00:11<00:00,  5.54s/it]\n",
      "COLLECT INTERACTIONS FROM TRAJECTORIES: 100%|██████████| 2/2 [00:11<00:00,  5.52s/it]\n",
      "COLLECT INTERACTIONS FROM TRAJECTORIES: 100%|██████████| 2/2 [00:11<00:00,  5.94s/it]\n",
      "COLLECT INTERACTIONS FROM TRAJECTORIES: 100%|██████████| 2/2 [00:11<00:00,  5.75s/it]\n",
      "COLLECT INTERACTIONS FROM TRAJECTORIES: 100%|██████████| 2/2 [00:11<00:00,  5.72s/it]\n",
      "COLLECT INTERACTIONS FROM TRAJECTORIES: 100%|██████████| 2/2 [00:11<00:00,  5.80s/it]\n",
      "COLLECT INTERACTIONS FROM TRAJECTORIES: 100%|██████████| 2/2 [00:11<00:00,  5.78s/it]\n",
      "COLLECT INTERACTIONS FROM TRAJECTORIES: 100%|██████████| 2/2 [00:11<00:00,  5.91s/it]\n",
      "COLLECT INTERACTIONS FROM TRAJECTORIES: 100%|██████████| 2/2 [00:11<00:00,  5.93s/it]\n"
     ]
    }
   ],
   "source": [
    "lipid = \"POP2\"\n",
    "lipid_atoms = [\"C1\", \"C2\", \"C3\", \"PO4\", \"P1\", \"P2\"]\n",
    "num_of_binding_sites, duration_avgs, num_of_contacting_residues = test_cutoffs(\n",
    "                                 cutoff_list, trajfile_list, topfile_list, lipid, lipid_atoms, \n",
    "                                 nprot=nprot, stride=stride, save_dir=save_dir, timeunit=timeunit)\n",
    "test_data = {\"num_of_binding_sites\": num_of_binding_sites,\n",
    "             \"duration_avgs\": duration_avgs,\n",
    "             \"num_of_contacting_residues\": num_of_contacting_residues,\n",
    "             \"test_cutoff_list\": cutoff_list}\n",
    "\n",
    "with open(f\"{save_dir}/test_cutoff_data_{lipid}.pickle\", \"wb\") as f:\n",
    "    pickle.dump(test_data, f, 2)"
   ]
  },
  {
   "cell_type": "markdown",
   "id": "pregnant-skating",
   "metadata": {},
   "source": [
    "Similar to cholesterol analysis, let's plot the interaction metrics as a function of cutoffs:"
   ]
  },
  {
   "cell_type": "code",
   "execution_count": 10,
   "id": "dangerous-conspiracy",
   "metadata": {},
   "outputs": [
    {
     "data": {
      "image/png": "[encoded data removed]",
      "text/plain": [
       "<Figure size 1270.08x259.2 with 1 Axes>"
      ]
     },
     "metadata": {
      "needs_background": "light"
     },
     "output_type": "display_data"
    },
    {
     "data": {
      "image/png": "[encoded data removed]",
      "text/plain": [
       "<Figure size 1270.08x259.2 with 1 Axes>"
      ]
     },
     "metadata": {
      "needs_background": "light"
     },
     "output_type": "display_data"
    },
    {
     "data": {
      "image/png": "[encoded data removed]",
      "text/plain": [
       "<Figure size 1270.08x259.2 with 1 Axes>"
      ]
     },
     "metadata": {
      "needs_background": "light"
     },
     "output_type": "display_data"
    }
   ],
   "source": [
    "graph(cutoff_list, num_of_binding_sites, \"num. of binding sites\", lipid, \n",
    "     f\"{save_dir}/test_cutoff_num_of_bs_{lipid}.png\")\n",
    "graph(cutoff_list, duration_avgs, f\"Durations ({timeunit})\", lipid, \n",
    "     f\"{save_dir}/test_cutoff_durations_{lipid}.png\")\n",
    "graph(cutoff_list, num_of_contacting_residues, \"num. of contacting residues\", lipid,\n",
    "     f\"{save_dir}/test_cutoff_num_of_contacting_residues_{lipid}.png\")"
   ]
  },
  {
   "cell_type": "markdown",
   "id": "southwest-buffer",
   "metadata": {},
   "source": [
    "One of major differrence, when comparing to cholesterol interactions, is that larger lower cutoffs were required to calculate contacts or binding sites. This observation agreed with the analysis of the minimum distance distribution, which started at 0.425 nm instead of 0.4 nm in that of the cholesterols. Another difference is that the duration plot does not show an obvious plateau as the upper cutoff increased from 0.55 nm to 0.8 nm, but has a little turn at 0.7 nm. This could suggest that the 'gap' between the first and second layers of PIP2s is narrower than that of cholesterols. "
   ]
  },
  {
   "cell_type": "markdown",
   "id": "cleared-output",
   "metadata": {},
   "source": [
    "### Compare results with A2a and GABAA\n",
    "\n",
    "We have shown that different lipid species may require different cutoff values, now let's check if the cutoff values will change for different proteins. Below we will first calculate the interaction metrics mentioned above for our GABAA simulations, then we will plot results from the two systems together for comparison. "
   ]
  },
  {
   "cell_type": "code",
   "execution_count": 11,
   "id": "attempted-savings",
   "metadata": {
    "scrolled": true
   },
   "outputs": [
    {
     "name": "stderr",
     "output_type": "stream",
     "text": [
      "\r",
      "COLLECT INTERACTIONS FROM TRAJECTORIES:   0%|          | 0/2 [00:00<?, ?it/s]"
     ]
    },
    {
     "name": "stdout",
     "output_type": "stream",
     "text": [
      "Creating new director: /Users/lindasong/PyLipID/PyLipID-dev/docs/tutorials/test_cutoffs_GABAA/Interaction_CHOL\n"
     ]
    },
    {
     "name": "stderr",
     "output_type": "stream",
     "text": [
      "COLLECT INTERACTIONS FROM TRAJECTORIES: 100%|██████████| 2/2 [02:30<00:00, 75.41s/it]\n",
      "COLLECT INTERACTIONS FROM TRAJECTORIES:   0%|          | 0/2 [00:00<?, ?it/s]"
     ]
    },
    {
     "name": "stdout",
     "output_type": "stream",
     "text": [
      "No binding site detected!!\n"
     ]
    },
    {
     "name": "stderr",
     "output_type": "stream",
     "text": [
      "COLLECT INTERACTIONS FROM TRAJECTORIES: 100%|██████████| 2/2 [02:30<00:00, 75.39s/it]\n",
      "COLLECT INTERACTIONS FROM TRAJECTORIES:   0%|          | 0/2 [00:00<?, ?it/s]"
     ]
    },
    {
     "name": "stdout",
     "output_type": "stream",
     "text": [
      "No binding site detected!!\n"
     ]
    },
    {
     "name": "stderr",
     "output_type": "stream",
     "text": [
      "COLLECT INTERACTIONS FROM TRAJECTORIES: 100%|██████████| 2/2 [02:29<00:00, 74.84s/it]\n",
      "COLLECT INTERACTIONS FROM TRAJECTORIES:   0%|          | 0/2 [00:00<?, ?it/s]"
     ]
    },
    {
     "name": "stdout",
     "output_type": "stream",
     "text": [
      "No binding site detected!!\n"
     ]
    },
    {
     "name": "stderr",
     "output_type": "stream",
     "text": [
      "COLLECT INTERACTIONS FROM TRAJECTORIES: 100%|██████████| 2/2 [02:29<00:00, 74.55s/it]\n",
      "COLLECT INTERACTIONS FROM TRAJECTORIES:   0%|          | 0/2 [00:00<?, ?it/s]"
     ]
    },
    {
     "name": "stdout",
     "output_type": "stream",
     "text": [
      "No binding site detected!!\n"
     ]
    },
    {
     "name": "stderr",
     "output_type": "stream",
     "text": [
      "COLLECT INTERACTIONS FROM TRAJECTORIES: 100%|██████████| 2/2 [02:31<00:00, 75.63s/it]\n",
      "COLLECT INTERACTIONS FROM TRAJECTORIES:   0%|          | 0/2 [00:00<?, ?it/s]"
     ]
    },
    {
     "name": "stdout",
     "output_type": "stream",
     "text": [
      "No binding site detected!!\n"
     ]
    },
    {
     "name": "stderr",
     "output_type": "stream",
     "text": [
      "COLLECT INTERACTIONS FROM TRAJECTORIES: 100%|██████████| 2/2 [02:33<00:00, 76.64s/it]\n",
      "COLLECT INTERACTIONS FROM TRAJECTORIES:   0%|          | 0/2 [00:00<?, ?it/s]"
     ]
    },
    {
     "name": "stdout",
     "output_type": "stream",
     "text": [
      "No binding site detected!!\n"
     ]
    },
    {
     "name": "stderr",
     "output_type": "stream",
     "text": [
      "COLLECT INTERACTIONS FROM TRAJECTORIES: 100%|██████████| 2/2 [02:32<00:00, 76.11s/it]\n",
      "COLLECT INTERACTIONS FROM TRAJECTORIES:   0%|          | 0/2 [00:00<?, ?it/s]"
     ]
    },
    {
     "name": "stdout",
     "output_type": "stream",
     "text": [
      "No binding site detected!!\n"
     ]
    },
    {
     "name": "stderr",
     "output_type": "stream",
     "text": [
      "COLLECT INTERACTIONS FROM TRAJECTORIES: 100%|██████████| 2/2 [02:32<00:00, 76.23s/it]\n",
      "COLLECT INTERACTIONS FROM TRAJECTORIES:   0%|          | 0/2 [00:00<?, ?it/s]"
     ]
    },
    {
     "name": "stdout",
     "output_type": "stream",
     "text": [
      "No binding site detected!!\n"
     ]
    },
    {
     "name": "stderr",
     "output_type": "stream",
     "text": [
      "COLLECT INTERACTIONS FROM TRAJECTORIES: 100%|██████████| 2/2 [02:34<00:00, 77.39s/it]\n",
      "COLLECT INTERACTIONS FROM TRAJECTORIES:   0%|          | 0/2 [00:00<?, ?it/s]"
     ]
    },
    {
     "name": "stdout",
     "output_type": "stream",
     "text": [
      "No binding site detected!!\n"
     ]
    },
    {
     "name": "stderr",
     "output_type": "stream",
     "text": [
      "COLLECT INTERACTIONS FROM TRAJECTORIES: 100%|██████████| 2/2 [02:25<00:00, 72.90s/it]\n",
      "COLLECT INTERACTIONS FROM TRAJECTORIES:   0%|          | 0/2 [00:00<?, ?it/s]"
     ]
    },
    {
     "name": "stdout",
     "output_type": "stream",
     "text": [
      "No binding site detected!!\n"
     ]
    },
    {
     "name": "stderr",
     "output_type": "stream",
     "text": [
      "COLLECT INTERACTIONS FROM TRAJECTORIES: 100%|██████████| 2/2 [02:24<00:00, 72.46s/it]\n",
      "COLLECT INTERACTIONS FROM TRAJECTORIES:   0%|          | 0/2 [00:00<?, ?it/s]"
     ]
    },
    {
     "name": "stdout",
     "output_type": "stream",
     "text": [
      "No binding site detected!!\n"
     ]
    },
    {
     "name": "stderr",
     "output_type": "stream",
     "text": [
      "COLLECT INTERACTIONS FROM TRAJECTORIES: 100%|██████████| 2/2 [02:24<00:00, 72.38s/it]\n",
      "COLLECT INTERACTIONS FROM TRAJECTORIES:   0%|          | 0/2 [00:00<?, ?it/s]"
     ]
    },
    {
     "name": "stdout",
     "output_type": "stream",
     "text": [
      "No binding site detected!!\n"
     ]
    },
    {
     "name": "stderr",
     "output_type": "stream",
     "text": [
      "COLLECT INTERACTIONS FROM TRAJECTORIES: 100%|██████████| 2/2 [02:27<00:00, 73.84s/it]\n",
      "COLLECT INTERACTIONS FROM TRAJECTORIES:   0%|          | 0/2 [00:00<?, ?it/s]"
     ]
    },
    {
     "name": "stdout",
     "output_type": "stream",
     "text": [
      "No binding site detected!!\n"
     ]
    },
    {
     "name": "stderr",
     "output_type": "stream",
     "text": [
      "COLLECT INTERACTIONS FROM TRAJECTORIES: 100%|██████████| 2/2 [02:25<00:00, 72.54s/it]\n",
      "COLLECT INTERACTIONS FROM TRAJECTORIES:   0%|          | 0/2 [00:00<?, ?it/s]"
     ]
    },
    {
     "name": "stdout",
     "output_type": "stream",
     "text": [
      "No binding site detected!!\n"
     ]
    },
    {
     "name": "stderr",
     "output_type": "stream",
     "text": [
      "COLLECT INTERACTIONS FROM TRAJECTORIES: 100%|██████████| 2/2 [02:25<00:00, 72.62s/it]\n",
      "COLLECT INTERACTIONS FROM TRAJECTORIES:   0%|          | 0/2 [00:00<?, ?it/s]"
     ]
    },
    {
     "name": "stdout",
     "output_type": "stream",
     "text": [
      "No binding site detected!!\n"
     ]
    },
    {
     "name": "stderr",
     "output_type": "stream",
     "text": [
      "COLLECT INTERACTIONS FROM TRAJECTORIES: 100%|██████████| 2/2 [02:25<00:00, 72.68s/it]\n",
      "COLLECT INTERACTIONS FROM TRAJECTORIES:   0%|          | 0/2 [00:00<?, ?it/s]"
     ]
    },
    {
     "name": "stdout",
     "output_type": "stream",
     "text": [
      "No binding site detected!!\n"
     ]
    },
    {
     "name": "stderr",
     "output_type": "stream",
     "text": [
      "COLLECT INTERACTIONS FROM TRAJECTORIES: 100%|██████████| 2/2 [02:25<00:00, 72.95s/it]\n",
      "COLLECT INTERACTIONS FROM TRAJECTORIES:   0%|          | 0/2 [00:00<?, ?it/s]"
     ]
    },
    {
     "name": "stdout",
     "output_type": "stream",
     "text": [
      "No binding site detected!!\n"
     ]
    },
    {
     "name": "stderr",
     "output_type": "stream",
     "text": [
      "COLLECT INTERACTIONS FROM TRAJECTORIES: 100%|██████████| 2/2 [02:25<00:00, 72.71s/it]\n",
      "COLLECT INTERACTIONS FROM TRAJECTORIES:   0%|          | 0/2 [00:00<?, ?it/s]"
     ]
    },
    {
     "name": "stdout",
     "output_type": "stream",
     "text": [
      "No binding site detected!!\n"
     ]
    },
    {
     "name": "stderr",
     "output_type": "stream",
     "text": [
      "COLLECT INTERACTIONS FROM TRAJECTORIES: 100%|██████████| 2/2 [02:26<00:00, 73.10s/it]\n",
      "COLLECT INTERACTIONS FROM TRAJECTORIES:   0%|          | 0/2 [00:00<?, ?it/s]"
     ]
    },
    {
     "name": "stdout",
     "output_type": "stream",
     "text": [
      "No binding site detected!!\n"
     ]
    },
    {
     "name": "stderr",
     "output_type": "stream",
     "text": [
      "COLLECT INTERACTIONS FROM TRAJECTORIES: 100%|██████████| 2/2 [02:25<00:00, 72.96s/it]\n",
      "COLLECT INTERACTIONS FROM TRAJECTORIES:   0%|          | 0/2 [00:00<?, ?it/s]"
     ]
    },
    {
     "name": "stdout",
     "output_type": "stream",
     "text": [
      "No binding site detected!!\n"
     ]
    },
    {
     "name": "stderr",
     "output_type": "stream",
     "text": [
      "COLLECT INTERACTIONS FROM TRAJECTORIES: 100%|██████████| 2/2 [02:25<00:00, 72.75s/it]\n",
      "COLLECT INTERACTIONS FROM TRAJECTORIES:   0%|          | 0/2 [00:00<?, ?it/s]"
     ]
    },
    {
     "name": "stdout",
     "output_type": "stream",
     "text": [
      "No binding site detected!!\n"
     ]
    },
    {
     "name": "stderr",
     "output_type": "stream",
     "text": [
      "COLLECT INTERACTIONS FROM TRAJECTORIES: 100%|██████████| 2/2 [02:25<00:00, 72.75s/it]\n",
      "COLLECT INTERACTIONS FROM TRAJECTORIES: 100%|██████████| 2/2 [02:25<00:00, 72.50s/it]\n",
      "COLLECT INTERACTIONS FROM TRAJECTORIES: 100%|██████████| 2/2 [02:24<00:00, 72.41s/it]\n",
      "COLLECT INTERACTIONS FROM TRAJECTORIES: 100%|██████████| 2/2 [02:25<00:00, 72.97s/it]\n",
      "COLLECT INTERACTIONS FROM TRAJECTORIES: 100%|██████████| 2/2 [02:25<00:00, 72.53s/it]\n",
      "COLLECT INTERACTIONS FROM TRAJECTORIES: 100%|██████████| 2/2 [02:24<00:00, 72.49s/it]\n",
      "COLLECT INTERACTIONS FROM TRAJECTORIES: 100%|██████████| 2/2 [02:24<00:00, 72.35s/it]\n",
      "COLLECT INTERACTIONS FROM TRAJECTORIES: 100%|██████████| 2/2 [02:24<00:00, 72.37s/it]\n",
      "COLLECT INTERACTIONS FROM TRAJECTORIES: 100%|██████████| 2/2 [02:24<00:00, 72.26s/it]\n",
      "COLLECT INTERACTIONS FROM TRAJECTORIES: 100%|██████████| 2/2 [02:25<00:00, 72.60s/it]\n",
      "COLLECT INTERACTIONS FROM TRAJECTORIES: 100%|██████████| 2/2 [02:25<00:00, 72.52s/it]\n",
      "COLLECT INTERACTIONS FROM TRAJECTORIES: 100%|██████████| 2/2 [02:25<00:00, 72.63s/it]\n",
      "COLLECT INTERACTIONS FROM TRAJECTORIES: 100%|██████████| 2/2 [02:24<00:00, 72.44s/it]\n",
      "COLLECT INTERACTIONS FROM TRAJECTORIES: 100%|██████████| 2/2 [02:24<00:00, 72.41s/it]\n",
      "COLLECT INTERACTIONS FROM TRAJECTORIES: 100%|██████████| 2/2 [02:24<00:00, 72.24s/it]\n",
      "COLLECT INTERACTIONS FROM TRAJECTORIES: 100%|██████████| 2/2 [02:25<00:00, 72.94s/it]\n",
      "COLLECT INTERACTIONS FROM TRAJECTORIES: 100%|██████████| 2/2 [02:24<00:00, 72.22s/it]\n",
      "COLLECT INTERACTIONS FROM TRAJECTORIES: 100%|██████████| 2/2 [02:25<00:00, 72.71s/it]\n",
      "COLLECT INTERACTIONS FROM TRAJECTORIES: 100%|██████████| 2/2 [02:24<00:00, 72.33s/it]\n",
      "COLLECT INTERACTIONS FROM TRAJECTORIES: 100%|██████████| 2/2 [02:24<00:00, 72.28s/it]\n",
      "COLLECT INTERACTIONS FROM TRAJECTORIES: 100%|██████████| 2/2 [02:25<00:00, 72.53s/it]\n"
     ]
    }
   ],
   "source": [
    "# GABAA simulations\n",
    "save_dir = check_dir(suffix=\"test_cutoffs_GABAA\", print_info=False)\n",
    "lipid = \"CHOL\"\n",
    "trajfile_list = [\"./traj_data/GABAA/run1/protein_lipids.xtc\", \n",
    "                 \"./traj_data/GABAA/run2/protein_lipids.xtc\"]\n",
    "topfile_list = [\"./traj_data/GABAA/run1/protein_lipids.gro\", \n",
    "                 \"./traj_data/GABAA/run2/protein_lipids.gro\"]\n",
    "\n",
    "num_of_binding_sites, duration_avgs, num_of_contacting_residues = test_cutoffs(\n",
    "                                 cutoff_list, trajfile_list, topfile_list, lipid, lipid_atoms, \n",
    "                                 nprot=nprot, stride=stride, save_dir=save_dir, timeunit=timeunit)\n",
    "\n",
    "test_data = {\"num_of_binding_sites\": num_of_binding_sites,\n",
    "             \"duration_avgs\": duration_avgs,\n",
    "             \"num_of_contacting_residues\": num_of_contacting_residues,\n",
    "             \"test_cutoff_list\": cutoff_list}\n",
    "\n",
    "with open(f\"{save_dir}/test_cutoff_data_{lipid}.pickle\", \"wb\") as f:\n",
    "    pickle.dump(test_data, f, 2)"
   ]
  },
  {
   "cell_type": "markdown",
   "id": "pharmaceutical-ideal",
   "metadata": {},
   "source": [
    "Now that we've generated data for the GABAA simulations, let's use the following script to compare the two sets of data"
   ]
  },
  {
   "cell_type": "code",
   "execution_count": 22,
   "id": "dependent-ordinance",
   "metadata": {},
   "outputs": [
    {
     "data": {
      "image/png": "[encoded data removed]",
      "text/plain": [
       "<Figure size 1270.08x259.2 with 1 Axes>"
      ]
     },
     "metadata": {
      "needs_background": "light"
     },
     "output_type": "display_data"
    },
    {
     "data": {
      "image/png": "[encoded data removed]",
      "text/plain": [
       "<Figure size 1270.08x259.2 with 1 Axes>"
      ]
     },
     "metadata": {
      "needs_background": "light"
     },
     "output_type": "display_data"
    },
    {
     "data": {
      "image/png": "[encoded data removed]",
      "text/plain": [
       "<Figure size 1270.08x259.2 with 1 Axes>"
      ]
     },
     "metadata": {
      "needs_background": "light"
     },
     "output_type": "display_data"
    }
   ],
   "source": [
    "import matplotlib.pyplot as plt\n",
    "\n",
    "def graph_compare(cutoff_list, data1, data2, label1, label2, ylabel, title, fn):\n",
    "    colors = [\"#20639B\", \"#ED553B\"]\n",
    "    fig, ax = plt.subplots(1, 1, figsize=(len(cutoff_list)*0.42, 3.6))\n",
    "    m1 = ax.scatter(np.arange(len(cutoff_list)), data1, s=50, color=colors[0])\n",
    "    m2 = ax.scatter(np.arange(len(cutoff_list)), data2, s=50, color=colors[1])\n",
    "    ax.set_xticks(np.arange(len(cutoff_list)))\n",
    "    ax.set_xticklabels(cutoff_list, rotation=45, ha='right')\n",
    "    ax.set_xlabel(\"Dual cutoff\")\n",
    "    ax.set_ylabel(ylabel)\n",
    "    ax.set_title(title)\n",
    "    ax.legend([m1, m2], [label1, label2], loc=\"upper left\")\n",
    "    plt.tight_layout()\n",
    "    plt.savefig(fn, dpi=200)\n",
    "    return\n",
    "\n",
    "\n",
    "lipid = \"CHOL\"\n",
    "with open(f\"./test_cutoffs_A2a/test_cutoff_data_{lipid}.pickle\", \"rb\") as f:\n",
    "    data_A2a = pickle.load(f)\n",
    "with open(f\"./test_cutoffs_GABAA/test_cutoff_data_{lipid}.pickle\", \"rb\") as f:\n",
    "    data_GABAA = pickle.load(f)\n",
    "    \n",
    "if data_A2a[\"test_cutoff_list\"] == data_GABAA[\"test_cutoff_list\"]:\n",
    "    # plot 1 \n",
    "    graph_compare(data_A2a[\"test_cutoff_list\"], data_A2a[\"num_of_binding_sites\"], \n",
    "                  data_GABAA[\"num_of_binding_sites\"], \"A2a\", \"GABAA\", \"Num. of binding sites\",\n",
    "                 lipid, f\"cmp_num_of_bs_{lipid}.png\")\n",
    "\n",
    "    # plot 2\n",
    "    graph_compare(data_A2a[\"test_cutoff_list\"], data_A2a[\"duration_avgs\"], \n",
    "                 data_GABAA[\"duration_avgs\"], \"A2a\", \"GABAA\", f\"Average Durations ({timeunit})\",\n",
    "                 lipid, f\"cmp_durations_{lipid}.png\")\n",
    "\n",
    "    # plot 3\n",
    "    graph_compare(data_A2a[\"test_cutoff_list\"], data_A2a[\"num_of_contacting_residues\"],\n",
    "                 data_GABAA[\"num_of_contacting_residues\"], \"A2a\", \"GABAA\", \"num. of contacting residues\",\n",
    "                 lipid, f\"cmp_num_of_contacting_residues_{lipid}.png\")\n"
   ]
  },
  {
   "cell_type": "markdown",
   "id": "worse-column",
   "metadata": {},
   "source": []
  }
 ],
 "metadata": {
  "kernelspec": {
   "display_name": "Python 3",
   "language": "python",
   "name": "python3"
  },
  "language_info": {
   "codemirror_mode": {
    "name": "ipython",
    "version": 3
   },
   "file_extension": ".py",
   "mimetype": "text/x-python",
   "name": "python",
   "nbconvert_exporter": "python",
   "pygments_lexer": "ipython3",
   "version": "3.8.3"
  },
  "toc": {
   "base_numbering": 1,
   "nav_menu": {},
   "number_sections": true,
   "sideBar": true,
   "skip_h1_title": false,
   "title_cell": "Table of Contents",
   "title_sidebar": "Contents",
   "toc_cell": false,
   "toc_position": {
    "height": "calc(100% - 180px)",
    "left": "10px",
    "top": "150px",
    "width": "313px"
   },
   "toc_section_display": true,
   "toc_window_display": true
  }
 },
 "nbformat": 4,
 "nbformat_minor": 5
}
